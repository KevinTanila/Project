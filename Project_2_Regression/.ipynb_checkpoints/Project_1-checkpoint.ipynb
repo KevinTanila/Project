{
 "cells": [
  {
   "cell_type": "markdown",
   "metadata": {},
   "source": [
    "#  Highly Rated App"
   ]
  },
  {
   "cell_type": "markdown",
   "metadata": {},
   "source": [
    "## 0. Problems to solve."
   ]
  },
  {
   "cell_type": "markdown",
   "metadata": {},
   "source": [
    "Phone applications have been a good way to earn money if the application is proven to satisfy downloaders. However, there are a lot of factors that may affect the rating."
   ]
  },
  {
   "cell_type": "code",
   "execution_count": 1,
   "metadata": {},
   "outputs": [],
   "source": [
    "%matplotlib inline\n",
    "\n",
    "import numpy as np\n",
    "import math\n",
    "import seaborn as sns\n",
    "import pandas as pd\n",
    "\n",
    "from scipy import stats\n",
    "from matplotlib import pyplot as plt\n",
    "from sklearn.linear_model import LinearRegression\n",
    "from sklearn.model_selection import train_test_split\n",
    "\n",
    "sns.set_context('poster')\n",
    "sns.set(rc={'figure.figsize': (10, 6)})\n",
    "sns.set_style('whitegrid')"
   ]
  },
  {
   "cell_type": "code",
   "execution_count": 2,
   "metadata": {},
   "outputs": [],
   "source": [
    "data = pd.read_csv('appstore_games.csv')"
   ]
  },
  {
   "cell_type": "markdown",
   "metadata": {},
   "source": [
    "## 1. What the data is and what it looks like  "
   ]
  },
  {
   "cell_type": "code",
   "execution_count": 3,
   "metadata": {},
   "outputs": [],
   "source": [
    "n = 120"
   ]
  },
  {
   "cell_type": "code",
   "execution_count": 4,
   "metadata": {},
   "outputs": [
    {
     "name": "stdout",
     "output_type": "stream",
     "text": [
      "========================================================================================================================\n",
      "Shape\n",
      "(17007, 18)\n",
      "========================================================================================================================\n"
     ]
    }
   ],
   "source": [
    "# Shape of the data\n",
    "\n",
    "print(\"=\" * n)\n",
    "print(\"Shape\")\n",
    "print(data.shape)\n",
    "print(\"=\" * n)"
   ]
  },
  {
   "cell_type": "code",
   "execution_count": 5,
   "metadata": {},
   "outputs": [
    {
     "name": "stdout",
     "output_type": "stream",
     "text": [
      "========================================================================================================================\n",
      "Columns\n",
      "Index(['URL', 'ID', 'Name', 'Subtitle', 'Icon URL', 'Average User Rating',\n",
      "       'User Rating Count', 'Price', 'In-app Purchases', 'Description',\n",
      "       'Developer', 'Age Rating', 'Languages', 'Size', 'Primary Genre',\n",
      "       'Genres', 'Original Release Date', 'Current Version Release Date'],\n",
      "      dtype='object')\n",
      "========================================================================================================================\n"
     ]
    }
   ],
   "source": [
    "# Column names\n",
    "\n",
    "print(\"=\" * n)\n",
    "print(\"Columns\")\n",
    "print(data.columns)\n",
    "print(\"=\" * n)"
   ]
  },
  {
   "cell_type": "code",
   "execution_count": 6,
   "metadata": {},
   "outputs": [
    {
     "name": "stdout",
     "output_type": "stream",
     "text": [
      "========================================================================================================================\n",
      "First 5 columns\n",
      "                                                 URL         ID  \\\n",
      "0   https://apps.apple.com/us/app/sudoku/id284921427  284921427   \n",
      "1  https://apps.apple.com/us/app/reversi/id284926400  284926400   \n",
      "2  https://apps.apple.com/us/app/morocco/id284946595  284946595   \n",
      "3  https://apps.apple.com/us/app/sudoku-free/id28...  285755462   \n",
      "4  https://apps.apple.com/us/app/senet-deluxe/id2...  285831220   \n",
      "\n",
      "            Name Subtitle                                           Icon URL  \\\n",
      "0         Sudoku      NaN  https://is2-ssl.mzstatic.com/image/thumb/Purpl...   \n",
      "1        Reversi      NaN  https://is4-ssl.mzstatic.com/image/thumb/Purpl...   \n",
      "2        Morocco      NaN  https://is5-ssl.mzstatic.com/image/thumb/Purpl...   \n",
      "3  Sudoku (Free)      NaN  https://is3-ssl.mzstatic.com/image/thumb/Purpl...   \n",
      "4   Senet Deluxe      NaN  https://is1-ssl.mzstatic.com/image/thumb/Purpl...   \n",
      "\n",
      "   Average User Rating  User Rating Count  Price In-app Purchases  \\\n",
      "0                  4.0             3553.0   2.99              NaN   \n",
      "1                  3.5              284.0   1.99              NaN   \n",
      "2                  3.0             8376.0   0.00              NaN   \n",
      "3                  3.5           190394.0   0.00              NaN   \n",
      "4                  3.5               28.0   2.99              NaN   \n",
      "\n",
      "                                         Description  \\\n",
      "0  Join over 21,000,000 of our fans and download ...   \n",
      "1  The classic game of Reversi, also known as Oth...   \n",
      "2  Play the classic strategy game Othello (also k...   \n",
      "3  Top 100 free app for over a year.\\nRated \"Best...   \n",
      "4  \"Senet Deluxe - The Ancient Game of Life and A...   \n",
      "\n",
      "                  Developer Age Rating  \\\n",
      "0  Mighty Mighty Good Games         4+   \n",
      "1          Kiss The Machine         4+   \n",
      "2               Bayou Games         4+   \n",
      "3  Mighty Mighty Good Games         4+   \n",
      "4           RoGame Software         4+   \n",
      "\n",
      "                                           Languages        Size  \\\n",
      "0  DA, NL, EN, FI, FR, DE, IT, JA, KO, NB, PL, PT...  15853568.0   \n",
      "1                                                 EN  12328960.0   \n",
      "2                                                 EN    674816.0   \n",
      "3  DA, NL, EN, FI, FR, DE, IT, JA, KO, NB, PL, PT...  21552128.0   \n",
      "4  DA, NL, EN, FR, DE, EL, IT, JA, KO, NO, PT, RU...  34689024.0   \n",
      "\n",
      "  Primary Genre                             Genres Original Release Date  \\\n",
      "0         Games            Games, Strategy, Puzzle            11/07/2008   \n",
      "1         Games             Games, Strategy, Board            11/07/2008   \n",
      "2         Games             Games, Board, Strategy            11/07/2008   \n",
      "3         Games            Games, Strategy, Puzzle            23/07/2008   \n",
      "4         Games  Games, Strategy, Board, Education            18/07/2008   \n",
      "\n",
      "  Current Version Release Date  \n",
      "0                   30/05/2017  \n",
      "1                   17/05/2018  \n",
      "2                    5/09/2017  \n",
      "3                   30/05/2017  \n",
      "4                   22/07/2018  \n",
      "========================================================================================================================\n"
     ]
    }
   ],
   "source": [
    "# First 5 rows\n",
    "\n",
    "print(\"=\" * n)\n",
    "print(\"First 5 columns\")\n",
    "print(data.head())\n",
    "print(\"=\" * n)"
   ]
  },
  {
   "cell_type": "code",
   "execution_count": 7,
   "metadata": {},
   "outputs": [
    {
     "name": "stdout",
     "output_type": "stream",
     "text": [
      "========================================================================================================================\n",
      "Last 5 columns\n",
      "                                                     URL          ID  \\\n",
      "17002  https://apps.apple.com/us/app/stack-puzzle-ris...  1474626442   \n",
      "17003  https://apps.apple.com/us/app/eachother/id1474...  1474919257   \n",
      "17004  https://apps.apple.com/us/app/rabbit-vs-tortoi...  1474962324   \n",
      "17005  https://apps.apple.com/us/app/fatall/id1474963671  1474963671   \n",
      "17006  https://apps.apple.com/us/app/the-three-kingdo...  1475076711   \n",
      "\n",
      "                            Name                        Subtitle  \\\n",
      "17002  Stack Puzzle : Rise Tower  Blast the cubes, solve puzzle!   \n",
      "17003                  EachOther                             NaN   \n",
      "17004         Rabbit Vs Tortoise                             NaN   \n",
      "17005                     FaTaLL                Most fun game!!!   \n",
      "17006   The Three Kingdoms :Bomb                             NaN   \n",
      "\n",
      "                                                Icon URL  Average User Rating  \\\n",
      "17002  https://is5-ssl.mzstatic.com/image/thumb/Purpl...                  NaN   \n",
      "17003  https://is2-ssl.mzstatic.com/image/thumb/Purpl...                  NaN   \n",
      "17004  https://is2-ssl.mzstatic.com/image/thumb/Purpl...                  NaN   \n",
      "17005  https://is1-ssl.mzstatic.com/image/thumb/Purpl...                  NaN   \n",
      "17006  https://is1-ssl.mzstatic.com/image/thumb/Purpl...                  NaN   \n",
      "\n",
      "       User Rating Count  Price   In-app Purchases  \\\n",
      "17002                NaN    0.0                NaN   \n",
      "17003                NaN    0.0                NaN   \n",
      "17004                NaN    0.0                NaN   \n",
      "17005                NaN    0.0  9.99, 49.99, 3.99   \n",
      "17006                NaN    0.0                NaN   \n",
      "\n",
      "                                             Description      Developer  \\\n",
      "17002  The goal is very simple, move the square horiz...    Zhigang Pei   \n",
      "17003  Collect a score while you play!!\\n\\nBy linking...  Sultan Shindi   \n",
      "17004  \"Rabbit Vs Tortoise is chess type cool simple ...  Vishal Baldha   \n",
      "17005  Upgrade your character and use your skills to ...   Tayrem Games   \n",
      "17006  The protagonist uses the method of placing a b...   ming bo tang   \n",
      "\n",
      "      Age Rating Languages         Size Primary Genre  \\\n",
      "17002         4+        EN   64795648.0         Games   \n",
      "17003         4+        EN  110341120.0         Games   \n",
      "17004         4+        EN   23207936.0         Games   \n",
      "17005         4+        EN  196750336.0         Games   \n",
      "17006         4+    EN, ZH   22952960.0         Games   \n",
      "\n",
      "                                       Genres Original Release Date  \\\n",
      "17002  Games, Entertainment, Casual, Strategy            30/07/2019   \n",
      "17003                 Games, Family, Strategy             1/08/2019   \n",
      "17004                         Games, Strategy             3/08/2019   \n",
      "17005                 Games, Strategy, Action             1/08/2019   \n",
      "17006                 Games, Strategy, Puzzle             2/08/2019   \n",
      "\n",
      "      Current Version Release Date  \n",
      "17002                   30/07/2019  \n",
      "17003                    1/08/2019  \n",
      "17004                    3/08/2019  \n",
      "17005                    1/08/2019  \n",
      "17006                    2/08/2019  \n",
      "========================================================================================================================\n"
     ]
    }
   ],
   "source": [
    "# Last 5 columns\n",
    "\n",
    "print(\"=\" * n)\n",
    "print(\"Last 5 columns\")\n",
    "print(data.tail())\n",
    "print(\"=\" * n)"
   ]
  },
  {
   "cell_type": "code",
   "execution_count": 8,
   "metadata": {},
   "outputs": [
    {
     "name": "stdout",
     "output_type": "stream",
     "text": [
      "========================================================================================================================\n",
      "Data types\n",
      "URL                              object\n",
      "ID                                int64\n",
      "Name                             object\n",
      "Subtitle                         object\n",
      "Icon URL                         object\n",
      "Average User Rating             float64\n",
      "User Rating Count               float64\n",
      "Price                           float64\n",
      "In-app Purchases                 object\n",
      "Description                      object\n",
      "Developer                        object\n",
      "Age Rating                       object\n",
      "Languages                        object\n",
      "Size                            float64\n",
      "Primary Genre                    object\n",
      "Genres                           object\n",
      "Original Release Date            object\n",
      "Current Version Release Date     object\n",
      "dtype: object\n",
      "========================================================================================================================\n"
     ]
    }
   ],
   "source": [
    "# Data types within each column\n",
    "\n",
    "print(\"=\" * n)\n",
    "print(\"Data types\")\n",
    "print(data.dtypes)\n",
    "print(\"=\" * n)"
   ]
  },
  {
   "cell_type": "code",
   "execution_count": 9,
   "metadata": {},
   "outputs": [
    {
     "name": "stdout",
     "output_type": "stream",
     "text": [
      "========================================================================================================================\n",
      "Data descriptions\n",
      "                 ID  Average User Rating  User Rating Count         Price  \\\n",
      "count  1.700700e+04          7561.000000       7.561000e+03  16983.000000   \n",
      "mean   1.059614e+09             4.060905       3.306531e+03      0.813419   \n",
      "std    2.999676e+08             0.751428       4.232256e+04      7.835732   \n",
      "min    2.849214e+08             1.000000       5.000000e+00      0.000000   \n",
      "25%    8.996543e+08             3.500000       1.200000e+01      0.000000   \n",
      "50%    1.112286e+09             4.500000       4.600000e+01      0.000000   \n",
      "75%    1.286983e+09             4.500000       3.090000e+02      0.000000   \n",
      "max    1.475077e+09             5.000000       3.032734e+06    179.990000   \n",
      "\n",
      "               Size  \n",
      "count  1.700600e+04  \n",
      "mean   1.157064e+08  \n",
      "std    2.036477e+08  \n",
      "min    5.132800e+04  \n",
      "25%    2.295014e+07  \n",
      "50%    5.676895e+07  \n",
      "75%    1.330271e+08  \n",
      "max    4.005591e+09  \n",
      "========================================================================================================================\n"
     ]
    }
   ],
   "source": [
    "# Data Descriptions\n",
    "\n",
    "print(\"=\" * n)\n",
    "print(\"Data descriptions\")\n",
    "print(data.describe())\n",
    "print(\"=\" * n)"
   ]
  },
  {
   "cell_type": "code",
   "execution_count": 10,
   "metadata": {},
   "outputs": [
    {
     "name": "stdout",
     "output_type": "stream",
     "text": [
      "========================================================================================================================\n",
      "Null check\n",
      "URL                                 0\n",
      "ID                                  0\n",
      "Name                                0\n",
      "Subtitle                        11746\n",
      "Icon URL                            0\n",
      "Average User Rating              9446\n",
      "User Rating Count                9446\n",
      "Price                              24\n",
      "In-app Purchases                 9324\n",
      "Description                         0\n",
      "Developer                           0\n",
      "Age Rating                          0\n",
      "Languages                          60\n",
      "Size                                1\n",
      "Primary Genre                       0\n",
      "Genres                              0\n",
      "Original Release Date               0\n",
      "Current Version Release Date        0\n",
      "dtype: int64\n",
      "========================================================================================================================\n"
     ]
    }
   ],
   "source": [
    "# Null checks\n",
    "\n",
    "print(\"=\" * n)\n",
    "print(\"Null check\")\n",
    "print(data.isnull().sum())\n",
    "print(\"=\" * n)"
   ]
  },
  {
   "cell_type": "code",
   "execution_count": 11,
   "metadata": {},
   "outputs": [
    {
     "name": "stdout",
     "output_type": "stream",
     "text": [
      "========================================================================================================================\n",
      "Info\n",
      "<class 'pandas.core.frame.DataFrame'>\n",
      "RangeIndex: 17007 entries, 0 to 17006\n",
      "Data columns (total 18 columns):\n",
      "URL                             17007 non-null object\n",
      "ID                              17007 non-null int64\n",
      "Name                            17007 non-null object\n",
      "Subtitle                        5261 non-null object\n",
      "Icon URL                        17007 non-null object\n",
      "Average User Rating             7561 non-null float64\n",
      "User Rating Count               7561 non-null float64\n",
      "Price                           16983 non-null float64\n",
      "In-app Purchases                7683 non-null object\n",
      "Description                     17007 non-null object\n",
      "Developer                       17007 non-null object\n",
      "Age Rating                      17007 non-null object\n",
      "Languages                       16947 non-null object\n",
      "Size                            17006 non-null float64\n",
      "Primary Genre                   17007 non-null object\n",
      "Genres                          17007 non-null object\n",
      "Original Release Date           17007 non-null object\n",
      "Current Version Release Date    17007 non-null object\n",
      "dtypes: float64(4), int64(1), object(13)\n",
      "memory usage: 2.3+ MB\n",
      "None\n",
      "========================================================================================================================\n"
     ]
    }
   ],
   "source": [
    "# More information of the data\n",
    "\n",
    "print(\"=\" * n)\n",
    "print(\"Info\")\n",
    "print(data.info())\n",
    "print(\"=\" * n)"
   ]
  },
  {
   "cell_type": "markdown",
   "metadata": {},
   "source": [
    "# 2. Data Cleaning"
   ]
  },
  {
   "cell_type": "markdown",
   "metadata": {},
   "source": [
    "### 2.1. Data cleaning"
   ]
  },
  {
   "cell_type": "markdown",
   "metadata": {},
   "source": [
    "Notice the column names are:\n",
    "\n",
    "- 'URL'\n",
    "- 'ID'\n",
    "- 'Name'\n",
    "- 'Subtitle'\n",
    "- 'Icon URL'\n",
    "- 'Average User Rating',\n",
    "- 'User Rating Count'\n",
    "- 'Price'\n",
    "- 'In-app Purchases'\n",
    "- 'Description'\n",
    "- 'Developer'\n",
    "- 'Age Rating'\n",
    "- 'Languages'\n",
    "- 'Size'\n",
    "- 'Primary Genre'\n",
    "- 'Genres'\n",
    "- 'Original Release Date'\n",
    "- 'Current Version Release Date'"
   ]
  },
  {
   "cell_type": "code",
   "execution_count": 12,
   "metadata": {},
   "outputs": [],
   "source": [
    "# Cleaning column name function\n",
    "\n",
    "def clean_column_name(column_names):\n",
    "    clean_column_names = []\n",
    "    for c in column_names:\n",
    "        c = c.lower().replace(' ', '_')\n",
    "        c = c.lower().replace('*', '')\n",
    "        c = c.lower().replace('?', '')\n",
    "        c = c.lower().replace('-', '_')\n",
    "        clean_column_names.append(c)\n",
    "    return clean_column_names"
   ]
  },
  {
   "cell_type": "code",
   "execution_count": 13,
   "metadata": {},
   "outputs": [],
   "source": [
    "data.columns = clean_column_name(data.columns)"
   ]
  },
  {
   "cell_type": "markdown",
   "metadata": {},
   "source": [
    "Re-checking the names"
   ]
  },
  {
   "cell_type": "code",
   "execution_count": 14,
   "metadata": {},
   "outputs": [
    {
     "data": {
      "text/plain": [
       "Index(['url', 'id', 'name', 'subtitle', 'icon_url', 'average_user_rating',\n",
       "       'user_rating_count', 'price', 'in_app_purchases', 'description',\n",
       "       'developer', 'age_rating', 'languages', 'size', 'primary_genre',\n",
       "       'genres', 'original_release_date', 'current_version_release_date'],\n",
       "      dtype='object')"
      ]
     },
     "execution_count": 14,
     "metadata": {},
     "output_type": "execute_result"
    }
   ],
   "source": [
    "data.columns"
   ]
  },
  {
   "cell_type": "markdown",
   "metadata": {},
   "source": [
    "The column names are now fixed. Notice that there are datas that has the types that they are not supposed to have.\n",
    "\n",
    "i.e. dates within the data which are not in date time format yet."
   ]
  },
  {
   "cell_type": "code",
   "execution_count": 15,
   "metadata": {},
   "outputs": [
    {
     "data": {
      "text/html": [
       "<div>\n",
       "<style scoped>\n",
       "    .dataframe tbody tr th:only-of-type {\n",
       "        vertical-align: middle;\n",
       "    }\n",
       "\n",
       "    .dataframe tbody tr th {\n",
       "        vertical-align: top;\n",
       "    }\n",
       "\n",
       "    .dataframe thead th {\n",
       "        text-align: right;\n",
       "    }\n",
       "</style>\n",
       "<table border=\"1\" class=\"dataframe\">\n",
       "  <thead>\n",
       "    <tr style=\"text-align: right;\">\n",
       "      <th></th>\n",
       "      <th>original_release_date</th>\n",
       "      <th>current_version_release_date</th>\n",
       "    </tr>\n",
       "  </thead>\n",
       "  <tbody>\n",
       "    <tr>\n",
       "      <th>0</th>\n",
       "      <td>11/07/2008</td>\n",
       "      <td>30/05/2017</td>\n",
       "    </tr>\n",
       "    <tr>\n",
       "      <th>1</th>\n",
       "      <td>11/07/2008</td>\n",
       "      <td>17/05/2018</td>\n",
       "    </tr>\n",
       "    <tr>\n",
       "      <th>2</th>\n",
       "      <td>11/07/2008</td>\n",
       "      <td>5/09/2017</td>\n",
       "    </tr>\n",
       "    <tr>\n",
       "      <th>3</th>\n",
       "      <td>23/07/2008</td>\n",
       "      <td>30/05/2017</td>\n",
       "    </tr>\n",
       "    <tr>\n",
       "      <th>4</th>\n",
       "      <td>18/07/2008</td>\n",
       "      <td>22/07/2018</td>\n",
       "    </tr>\n",
       "  </tbody>\n",
       "</table>\n",
       "</div>"
      ],
      "text/plain": [
       "  original_release_date current_version_release_date\n",
       "0            11/07/2008                   30/05/2017\n",
       "1            11/07/2008                   17/05/2018\n",
       "2            11/07/2008                    5/09/2017\n",
       "3            23/07/2008                   30/05/2017\n",
       "4            18/07/2008                   22/07/2018"
      ]
     },
     "execution_count": 15,
     "metadata": {},
     "output_type": "execute_result"
    }
   ],
   "source": [
    "data[['original_release_date', 'current_version_release_date']].head()"
   ]
  },
  {
   "cell_type": "code",
   "execution_count": 16,
   "metadata": {},
   "outputs": [],
   "source": [
    "# type conversion to date time\n",
    "\n",
    "data['original_release_date'] = pd.to_datetime(data['original_release_date'])\n",
    "data['current_version_release_date'] = pd.to_datetime(data['current_version_release_date'])"
   ]
  },
  {
   "cell_type": "code",
   "execution_count": 17,
   "metadata": {},
   "outputs": [
    {
     "data": {
      "text/plain": [
       "original_release_date           datetime64[ns]\n",
       "current_version_release_date    datetime64[ns]\n",
       "dtype: object"
      ]
     },
     "execution_count": 17,
     "metadata": {},
     "output_type": "execute_result"
    }
   ],
   "source": [
    "data[['original_release_date', 'current_version_release_date']].dtypes"
   ]
  },
  {
   "cell_type": "markdown",
   "metadata": {},
   "source": [
    "Looking at the nulls in the subtitle column, it is possible to remove this column. "
   ]
  },
  {
   "cell_type": "code",
   "execution_count": 18,
   "metadata": {},
   "outputs": [
    {
     "data": {
      "text/html": [
       "<div>\n",
       "<style scoped>\n",
       "    .dataframe tbody tr th:only-of-type {\n",
       "        vertical-align: middle;\n",
       "    }\n",
       "\n",
       "    .dataframe tbody tr th {\n",
       "        vertical-align: top;\n",
       "    }\n",
       "\n",
       "    .dataframe thead th {\n",
       "        text-align: right;\n",
       "    }\n",
       "</style>\n",
       "<table border=\"1\" class=\"dataframe\">\n",
       "  <thead>\n",
       "    <tr style=\"text-align: right;\">\n",
       "      <th></th>\n",
       "      <th>url</th>\n",
       "      <th>id</th>\n",
       "      <th>name</th>\n",
       "      <th>icon_url</th>\n",
       "      <th>average_user_rating</th>\n",
       "      <th>user_rating_count</th>\n",
       "      <th>price</th>\n",
       "      <th>in_app_purchases</th>\n",
       "      <th>description</th>\n",
       "      <th>developer</th>\n",
       "      <th>age_rating</th>\n",
       "      <th>languages</th>\n",
       "      <th>size</th>\n",
       "      <th>primary_genre</th>\n",
       "      <th>genres</th>\n",
       "      <th>original_release_date</th>\n",
       "      <th>current_version_release_date</th>\n",
       "    </tr>\n",
       "  </thead>\n",
       "  <tbody>\n",
       "    <tr>\n",
       "      <th>0</th>\n",
       "      <td>https://apps.apple.com/us/app/sudoku/id284921427</td>\n",
       "      <td>284921427</td>\n",
       "      <td>Sudoku</td>\n",
       "      <td>https://is2-ssl.mzstatic.com/image/thumb/Purpl...</td>\n",
       "      <td>4.0</td>\n",
       "      <td>3553.0</td>\n",
       "      <td>2.99</td>\n",
       "      <td>NaN</td>\n",
       "      <td>Join over 21,000,000 of our fans and download ...</td>\n",
       "      <td>Mighty Mighty Good Games</td>\n",
       "      <td>4+</td>\n",
       "      <td>DA, NL, EN, FI, FR, DE, IT, JA, KO, NB, PL, PT...</td>\n",
       "      <td>15853568.0</td>\n",
       "      <td>Games</td>\n",
       "      <td>Games, Strategy, Puzzle</td>\n",
       "      <td>2008-11-07</td>\n",
       "      <td>2017-05-30</td>\n",
       "    </tr>\n",
       "    <tr>\n",
       "      <th>1</th>\n",
       "      <td>https://apps.apple.com/us/app/reversi/id284926400</td>\n",
       "      <td>284926400</td>\n",
       "      <td>Reversi</td>\n",
       "      <td>https://is4-ssl.mzstatic.com/image/thumb/Purpl...</td>\n",
       "      <td>3.5</td>\n",
       "      <td>284.0</td>\n",
       "      <td>1.99</td>\n",
       "      <td>NaN</td>\n",
       "      <td>The classic game of Reversi, also known as Oth...</td>\n",
       "      <td>Kiss The Machine</td>\n",
       "      <td>4+</td>\n",
       "      <td>EN</td>\n",
       "      <td>12328960.0</td>\n",
       "      <td>Games</td>\n",
       "      <td>Games, Strategy, Board</td>\n",
       "      <td>2008-11-07</td>\n",
       "      <td>2018-05-17</td>\n",
       "    </tr>\n",
       "    <tr>\n",
       "      <th>2</th>\n",
       "      <td>https://apps.apple.com/us/app/morocco/id284946595</td>\n",
       "      <td>284946595</td>\n",
       "      <td>Morocco</td>\n",
       "      <td>https://is5-ssl.mzstatic.com/image/thumb/Purpl...</td>\n",
       "      <td>3.0</td>\n",
       "      <td>8376.0</td>\n",
       "      <td>0.00</td>\n",
       "      <td>NaN</td>\n",
       "      <td>Play the classic strategy game Othello (also k...</td>\n",
       "      <td>Bayou Games</td>\n",
       "      <td>4+</td>\n",
       "      <td>EN</td>\n",
       "      <td>674816.0</td>\n",
       "      <td>Games</td>\n",
       "      <td>Games, Board, Strategy</td>\n",
       "      <td>2008-11-07</td>\n",
       "      <td>2017-05-09</td>\n",
       "    </tr>\n",
       "    <tr>\n",
       "      <th>3</th>\n",
       "      <td>https://apps.apple.com/us/app/sudoku-free/id28...</td>\n",
       "      <td>285755462</td>\n",
       "      <td>Sudoku (Free)</td>\n",
       "      <td>https://is3-ssl.mzstatic.com/image/thumb/Purpl...</td>\n",
       "      <td>3.5</td>\n",
       "      <td>190394.0</td>\n",
       "      <td>0.00</td>\n",
       "      <td>NaN</td>\n",
       "      <td>Top 100 free app for over a year.\\nRated \"Best...</td>\n",
       "      <td>Mighty Mighty Good Games</td>\n",
       "      <td>4+</td>\n",
       "      <td>DA, NL, EN, FI, FR, DE, IT, JA, KO, NB, PL, PT...</td>\n",
       "      <td>21552128.0</td>\n",
       "      <td>Games</td>\n",
       "      <td>Games, Strategy, Puzzle</td>\n",
       "      <td>2008-07-23</td>\n",
       "      <td>2017-05-30</td>\n",
       "    </tr>\n",
       "    <tr>\n",
       "      <th>4</th>\n",
       "      <td>https://apps.apple.com/us/app/senet-deluxe/id2...</td>\n",
       "      <td>285831220</td>\n",
       "      <td>Senet Deluxe</td>\n",
       "      <td>https://is1-ssl.mzstatic.com/image/thumb/Purpl...</td>\n",
       "      <td>3.5</td>\n",
       "      <td>28.0</td>\n",
       "      <td>2.99</td>\n",
       "      <td>NaN</td>\n",
       "      <td>\"Senet Deluxe - The Ancient Game of Life and A...</td>\n",
       "      <td>RoGame Software</td>\n",
       "      <td>4+</td>\n",
       "      <td>DA, NL, EN, FR, DE, EL, IT, JA, KO, NO, PT, RU...</td>\n",
       "      <td>34689024.0</td>\n",
       "      <td>Games</td>\n",
       "      <td>Games, Strategy, Board, Education</td>\n",
       "      <td>2008-07-18</td>\n",
       "      <td>2018-07-22</td>\n",
       "    </tr>\n",
       "  </tbody>\n",
       "</table>\n",
       "</div>"
      ],
      "text/plain": [
       "                                                 url         id  \\\n",
       "0   https://apps.apple.com/us/app/sudoku/id284921427  284921427   \n",
       "1  https://apps.apple.com/us/app/reversi/id284926400  284926400   \n",
       "2  https://apps.apple.com/us/app/morocco/id284946595  284946595   \n",
       "3  https://apps.apple.com/us/app/sudoku-free/id28...  285755462   \n",
       "4  https://apps.apple.com/us/app/senet-deluxe/id2...  285831220   \n",
       "\n",
       "            name                                           icon_url  \\\n",
       "0         Sudoku  https://is2-ssl.mzstatic.com/image/thumb/Purpl...   \n",
       "1        Reversi  https://is4-ssl.mzstatic.com/image/thumb/Purpl...   \n",
       "2        Morocco  https://is5-ssl.mzstatic.com/image/thumb/Purpl...   \n",
       "3  Sudoku (Free)  https://is3-ssl.mzstatic.com/image/thumb/Purpl...   \n",
       "4   Senet Deluxe  https://is1-ssl.mzstatic.com/image/thumb/Purpl...   \n",
       "\n",
       "   average_user_rating  user_rating_count  price in_app_purchases  \\\n",
       "0                  4.0             3553.0   2.99              NaN   \n",
       "1                  3.5              284.0   1.99              NaN   \n",
       "2                  3.0             8376.0   0.00              NaN   \n",
       "3                  3.5           190394.0   0.00              NaN   \n",
       "4                  3.5               28.0   2.99              NaN   \n",
       "\n",
       "                                         description  \\\n",
       "0  Join over 21,000,000 of our fans and download ...   \n",
       "1  The classic game of Reversi, also known as Oth...   \n",
       "2  Play the classic strategy game Othello (also k...   \n",
       "3  Top 100 free app for over a year.\\nRated \"Best...   \n",
       "4  \"Senet Deluxe - The Ancient Game of Life and A...   \n",
       "\n",
       "                  developer age_rating  \\\n",
       "0  Mighty Mighty Good Games         4+   \n",
       "1          Kiss The Machine         4+   \n",
       "2               Bayou Games         4+   \n",
       "3  Mighty Mighty Good Games         4+   \n",
       "4           RoGame Software         4+   \n",
       "\n",
       "                                           languages        size  \\\n",
       "0  DA, NL, EN, FI, FR, DE, IT, JA, KO, NB, PL, PT...  15853568.0   \n",
       "1                                                 EN  12328960.0   \n",
       "2                                                 EN    674816.0   \n",
       "3  DA, NL, EN, FI, FR, DE, IT, JA, KO, NB, PL, PT...  21552128.0   \n",
       "4  DA, NL, EN, FR, DE, EL, IT, JA, KO, NO, PT, RU...  34689024.0   \n",
       "\n",
       "  primary_genre                             genres original_release_date  \\\n",
       "0         Games            Games, Strategy, Puzzle            2008-11-07   \n",
       "1         Games             Games, Strategy, Board            2008-11-07   \n",
       "2         Games             Games, Board, Strategy            2008-11-07   \n",
       "3         Games            Games, Strategy, Puzzle            2008-07-23   \n",
       "4         Games  Games, Strategy, Board, Education            2008-07-18   \n",
       "\n",
       "  current_version_release_date  \n",
       "0                   2017-05-30  \n",
       "1                   2018-05-17  \n",
       "2                   2017-05-09  \n",
       "3                   2017-05-30  \n",
       "4                   2018-07-22  "
      ]
     },
     "execution_count": 18,
     "metadata": {},
     "output_type": "execute_result"
    }
   ],
   "source": [
    "# removing a column\n",
    "\n",
    "data.drop(columns = ['subtitle'], inplace = True)\n",
    "\n",
    "data.head()"
   ]
  },
  {
   "cell_type": "markdown",
   "metadata": {},
   "source": [
    "### 2.2. Null conversions."
   ]
  },
  {
   "cell_type": "markdown",
   "metadata": {},
   "source": [
    "While other columns that has nulls, like prices and ratings, the numbers can be substituted by 0. "
   ]
  },
  {
   "cell_type": "code",
   "execution_count": 19,
   "metadata": {},
   "outputs": [],
   "source": [
    "data.fillna(0, inplace = True)"
   ]
  },
  {
   "cell_type": "code",
   "execution_count": 20,
   "metadata": {},
   "outputs": [
    {
     "data": {
      "text/plain": [
       "url                             0\n",
       "id                              0\n",
       "name                            0\n",
       "icon_url                        0\n",
       "average_user_rating             0\n",
       "user_rating_count               0\n",
       "price                           0\n",
       "in_app_purchases                0\n",
       "description                     0\n",
       "developer                       0\n",
       "age_rating                      0\n",
       "languages                       0\n",
       "size                            0\n",
       "primary_genre                   0\n",
       "genres                          0\n",
       "original_release_date           0\n",
       "current_version_release_date    0\n",
       "dtype: int64"
      ]
     },
     "execution_count": 20,
     "metadata": {},
     "output_type": "execute_result"
    }
   ],
   "source": [
    "data.isnull().sum()"
   ]
  },
  {
   "cell_type": "markdown",
   "metadata": {},
   "source": [
    "## 2.3 Data type cleaning"
   ]
  },
  {
   "cell_type": "code",
   "execution_count": 21,
   "metadata": {},
   "outputs": [
    {
     "data": {
      "text/plain": [
       "url                                     object\n",
       "id                                       int64\n",
       "name                                    object\n",
       "icon_url                                object\n",
       "average_user_rating                    float64\n",
       "user_rating_count                      float64\n",
       "price                                  float64\n",
       "in_app_purchases                        object\n",
       "description                             object\n",
       "developer                               object\n",
       "age_rating                              object\n",
       "languages                               object\n",
       "size                                   float64\n",
       "primary_genre                           object\n",
       "genres                                  object\n",
       "original_release_date           datetime64[ns]\n",
       "current_version_release_date    datetime64[ns]\n",
       "dtype: object"
      ]
     },
     "execution_count": 21,
     "metadata": {},
     "output_type": "execute_result"
    }
   ],
   "source": [
    "data[['in_app_purchases', 'languages', 'primary_genre', 'genres']] = data[['in_app_purchases', 'languages', 'primary_genre', 'genres']].astype(str)\n",
    "\n",
    "data.dtypes"
   ]
  },
  {
   "cell_type": "markdown",
   "metadata": {},
   "source": [
    "## 3. Data Visualisation"
   ]
  },
  {
   "cell_type": "markdown",
   "metadata": {},
   "source": [
    "Checking the ranges for each columns"
   ]
  },
  {
   "cell_type": "code",
   "execution_count": 22,
   "metadata": {},
   "outputs": [
    {
     "name": "stdout",
     "output_type": "stream",
     "text": [
      "url                 : https://apps.apple.com/us/app/%D8%B5%D8%B1%D8%A7%D8%B9-%D8%A7%D9%84%D8%AC%D8%A8%D8%A7%D8%A8%D8%B1%D8%A9/id934298011 to https://apps.apple.com/us/app/zumi-war-fare-bubble-shooter-showdown-military-tanks/id900003022\n",
      "id                  : 284921427 to 1475076711\n",
      "name                : ! Chess ! to kraken chess\n",
      "icon_url            : https://is1-ssl.mzstatic.com/image/thumb/Purple/v4/00/a4/05/00a40516-b1b6-9fc9-8011-b899e61ce8a9/source/512x512bb.jpg to https://is5-ssl.mzstatic.com/image/thumb/Purple91/v4/fc/30/a4/fc30a440-d7ed-0796-99e3-c06092ba84b6/source/512x512bb.jpg\n",
      "average_user_rating : 0.0 to 5.0\n",
      "user_rating_count   : 0.0 to 3032734.0\n",
      "price               : 0.0 to 179.99\n",
      "in_app_purchases    : 0 to 99.99, 9.99, 4.99, 9.99, 2.99, 99.99, 9.99, 29.99, 9.99, 2.99\n",
      "description         : ! Spooky Music & Creepy Sounds !\\n\\n- Simple game play with a helpful tutorial to get you started! \\n- Achieve awesome power ups to get through the harder levels - or just buy them!\\n- 800 - yes 800 different levels to keep you entertained!\\n- Easy to learn - pretty darn hard to master!\\n- See just how far and deep into the forest you can go!\\n\\nCRAZY!!! YES CRAZY MONSTER MINIONS! OH NO!!!! The crazy monster minions are in the Dark Forest and are up to no good! Save this beautiful but haunting forest by popping all of the monster minions in this awesome chain (did I say chain? get it? trees! chain ---- saw trees!) Ok bad joke - but this is an awesome chain reaction game! to ~~~~~~~~~~\\nbackground\\n~~~~~~~~~~\\nWelcome to the world of balls, balls in the world has been invaded bad guys. Sphere help them eliminate bad guys, rescue the trapped balls.\\n\\n~~~~~~~~~~\\nCharacteristic\\n~~~~~~~~~~\\nThis is an addictive brain challenge game. The classic puzzle game called, allowing the player to feel the fun whimsy!\\nThe game itself is not difficult, but the players need to focus on the spirit of open brain hole, the perfect combination of their comprehensive ability to break through the layers trap, destroy the bad guys, rescue the trapped balls to complete the challenge.\\n\\n~~~~~~~~~~\\nPlay\\n~~~~~~~~~~\\nRemove plank, with bombs to destroy the bad guys, rescue the trapped balls, the balls of the same color together so that you can cross the border.\n",
      "developer           : \"Alex Artem'ev\" to zurab inaishvili\n",
      "age_rating          : 12+ to 9+\n",
      "languages           : 0 to ZH, ZH\n",
      "size                : 0.0 to 4005591040.0\n",
      "primary_genre       : Book to Utilities\n",
      "genres              : Books, Games, Board, Strategy to Utilities, Strategy, Word, Games\n",
      "original_release_date: 2008-01-08 00:00:00 to 2019-12-07 00:00:00\n",
      "current_version_release_date: 2008-01-08 00:00:00 to 2019-12-07 00:00:00\n"
     ]
    }
   ],
   "source": [
    "def print_range(data, var):\n",
    "    print('{0:20}: {1} to {2}'.format(var, data[var].min(), data[var].max()))\n",
    "    \n",
    "for v in data.columns:\n",
    "    print_range(data, v)"
   ]
  },
  {
   "cell_type": "markdown",
   "metadata": {},
   "source": [
    "We can see that the price distribution is skewed to the left and distribution for the size is also roughly skewed to the left. "
   ]
  },
  {
   "cell_type": "code",
   "execution_count": 23,
   "metadata": {},
   "outputs": [
    {
     "data": {
      "text/plain": [
       "array(['Games', 'Entertainment', 'Finance', 'Sports', 'Reference',\n",
       "       'Medical', 'Education', 'Utilities', 'Book', 'Travel',\n",
       "       'Productivity', 'Lifestyle', 'Business', 'News',\n",
       "       'Social Networking', 'Health & Fitness', 'Music', 'Stickers',\n",
       "       'Food & Drink', 'Shopping', 'Navigation'], dtype=object)"
      ]
     },
     "execution_count": 23,
     "metadata": {},
     "output_type": "execute_result"
    }
   ],
   "source": [
    "data['primary_genre'].unique()"
   ]
  },
  {
   "cell_type": "code",
   "execution_count": 25,
   "metadata": {},
   "outputs": [
    {
     "data": {
      "text/html": [
       "<div>\n",
       "<style scoped>\n",
       "    .dataframe tbody tr th:only-of-type {\n",
       "        vertical-align: middle;\n",
       "    }\n",
       "\n",
       "    .dataframe tbody tr th {\n",
       "        vertical-align: top;\n",
       "    }\n",
       "\n",
       "    .dataframe thead th {\n",
       "        text-align: right;\n",
       "    }\n",
       "</style>\n",
       "<table border=\"1\" class=\"dataframe\">\n",
       "  <thead>\n",
       "    <tr style=\"text-align: right;\">\n",
       "      <th></th>\n",
       "      <th>average_user_rating</th>\n",
       "    </tr>\n",
       "    <tr>\n",
       "      <th>primary_genre</th>\n",
       "      <th></th>\n",
       "    </tr>\n",
       "  </thead>\n",
       "  <tbody>\n",
       "    <tr>\n",
       "      <th>Book</th>\n",
       "      <td>9</td>\n",
       "    </tr>\n",
       "    <tr>\n",
       "      <th>Business</th>\n",
       "      <td>16</td>\n",
       "    </tr>\n",
       "    <tr>\n",
       "      <th>Education</th>\n",
       "      <td>222</td>\n",
       "    </tr>\n",
       "    <tr>\n",
       "      <th>Entertainment</th>\n",
       "      <td>198</td>\n",
       "    </tr>\n",
       "    <tr>\n",
       "      <th>Finance</th>\n",
       "      <td>18</td>\n",
       "    </tr>\n",
       "    <tr>\n",
       "      <th>Food &amp; Drink</th>\n",
       "      <td>4</td>\n",
       "    </tr>\n",
       "    <tr>\n",
       "      <th>Games</th>\n",
       "      <td>16286</td>\n",
       "    </tr>\n",
       "    <tr>\n",
       "      <th>Health &amp; Fitness</th>\n",
       "      <td>5</td>\n",
       "    </tr>\n",
       "    <tr>\n",
       "      <th>Lifestyle</th>\n",
       "      <td>10</td>\n",
       "    </tr>\n",
       "    <tr>\n",
       "      <th>Medical</th>\n",
       "      <td>2</td>\n",
       "    </tr>\n",
       "    <tr>\n",
       "      <th>Music</th>\n",
       "      <td>3</td>\n",
       "    </tr>\n",
       "    <tr>\n",
       "      <th>Navigation</th>\n",
       "      <td>3</td>\n",
       "    </tr>\n",
       "    <tr>\n",
       "      <th>News</th>\n",
       "      <td>7</td>\n",
       "    </tr>\n",
       "    <tr>\n",
       "      <th>Productivity</th>\n",
       "      <td>15</td>\n",
       "    </tr>\n",
       "    <tr>\n",
       "      <th>Reference</th>\n",
       "      <td>32</td>\n",
       "    </tr>\n",
       "    <tr>\n",
       "      <th>Shopping</th>\n",
       "      <td>1</td>\n",
       "    </tr>\n",
       "    <tr>\n",
       "      <th>Social Networking</th>\n",
       "      <td>9</td>\n",
       "    </tr>\n",
       "    <tr>\n",
       "      <th>Sports</th>\n",
       "      <td>60</td>\n",
       "    </tr>\n",
       "    <tr>\n",
       "      <th>Stickers</th>\n",
       "      <td>29</td>\n",
       "    </tr>\n",
       "    <tr>\n",
       "      <th>Travel</th>\n",
       "      <td>1</td>\n",
       "    </tr>\n",
       "    <tr>\n",
       "      <th>Utilities</th>\n",
       "      <td>77</td>\n",
       "    </tr>\n",
       "  </tbody>\n",
       "</table>\n",
       "</div>"
      ],
      "text/plain": [
       "                   average_user_rating\n",
       "primary_genre                         \n",
       "Book                                 9\n",
       "Business                            16\n",
       "Education                          222\n",
       "Entertainment                      198\n",
       "Finance                             18\n",
       "Food & Drink                         4\n",
       "Games                            16286\n",
       "Health & Fitness                     5\n",
       "Lifestyle                           10\n",
       "Medical                              2\n",
       "Music                                3\n",
       "Navigation                           3\n",
       "News                                 7\n",
       "Productivity                        15\n",
       "Reference                           32\n",
       "Shopping                             1\n",
       "Social Networking                    9\n",
       "Sports                              60\n",
       "Stickers                            29\n",
       "Travel                               1\n",
       "Utilities                           77"
      ]
     },
     "execution_count": 25,
     "metadata": {},
     "output_type": "execute_result"
    }
   ],
   "source": [
    "data[['average_user_rating', 'primary_genre']].groupby(['primary_genre']).count()"
   ]
  },
  {
   "cell_type": "markdown",
   "metadata": {},
   "source": [
    "Most of the samples lie in games. Perhaps it is easier to use samples from the games genre."
   ]
  },
  {
   "cell_type": "markdown",
   "metadata": {},
   "source": [
    "For the variables that can predict the average user rating of games, these are the possible variables:\n",
    "\n",
    "- price\n",
    "- in-app purchases\n",
    "- age rating\n",
    "- size of the game\n",
    "\n",
    "We can create a new feature based on the in-app purchases, turning the column into boolean."
   ]
  },
  {
   "cell_type": "code",
   "execution_count": 26,
   "metadata": {},
   "outputs": [],
   "source": [
    "data['in_app_purchases_bool'] = data['in_app_purchases'].str.len() > 1"
   ]
  },
  {
   "cell_type": "code",
   "execution_count": 27,
   "metadata": {},
   "outputs": [],
   "source": [
    "rated_games = data[(data['average_user_rating'] > 0) & (data['primary_genre'] == 'Games')]"
   ]
  },
  {
   "cell_type": "code",
   "execution_count": 28,
   "metadata": {},
   "outputs": [
    {
     "data": {
      "text/plain": [
       "(array([  12.,   55.,  143.,  305.,    0.,  494.,  895., 1664., 2768.,\n",
       "         955.]),\n",
       " array([1. , 1.4, 1.8, 2.2, 2.6, 3. , 3.4, 3.8, 4.2, 4.6, 5. ]),\n",
       " <a list of 10 Patch objects>)"
      ]
     },
     "execution_count": 28,
     "metadata": {},
     "output_type": "execute_result"
    },
    {
     "data": {
      "image/png": "[encoded data removed]",
      "text/plain": [
       "<Figure size 432x288 with 1 Axes>"
      ]
     },
     "metadata": {
      "needs_background": "light"
     },
     "output_type": "display_data"
    }
   ],
   "source": [
    "plt.hist(rated_games['average_user_rating'])"
   ]
  },
  {
   "cell_type": "code",
   "execution_count": 34,
   "metadata": {},
   "outputs": [],
   "source": [
    "# Skewness, kurtosis. "
   ]
  },
  {
   "cell_type": "code",
   "execution_count": 29,
   "metadata": {},
   "outputs": [
    {
     "data": {
      "image/png": "[encoded data removed]",
      "text/plain": [
       "<Figure size 476.675x360 with 1 Axes>"
      ]
     },
     "metadata": {
      "needs_background": "light"
     },
     "output_type": "display_data"
    }
   ],
   "source": [
    "# Plot the data\n",
    "\n",
    "# plot a scatter plot on it with our data\n",
    "sns.lmplot('average_user_rating', 'size', rated_games, hue = 'in_app_purchases_bool', fit_reg = False)\n",
    "\n",
    "plt.xlabel('average_user_rating')\n",
    "plt.ylabel('size')\n",
    "\n",
    "plt.show();"
   ]
  },
  {
   "cell_type": "code",
   "execution_count": 30,
   "metadata": {},
   "outputs": [
    {
     "data": {
      "image/png": "[encoded data removed]",
      "text/plain": [
       "<Figure size 476.675x360 with 1 Axes>"
      ]
     },
     "metadata": {
      "needs_background": "light"
     },
     "output_type": "display_data"
    }
   ],
   "source": [
    "# Plot the data\n",
    "\n",
    "# plot a scatter plot on it with our data\n",
    "sns.lmplot('average_user_rating', 'price', rated_games, hue = 'in_app_purchases_bool', fit_reg = False)\n",
    "\n",
    "plt.xlabel('average_user_rating')\n",
    "plt.ylabel('price')\n",
    "\n",
    "plt.show();"
   ]
  },
  {
   "cell_type": "markdown",
   "metadata": {},
   "source": [
    "Let us see the correlation of each variable."
   ]
  },
  {
   "cell_type": "code",
   "execution_count": 31,
   "metadata": {},
   "outputs": [],
   "source": [
    "data_corr = rated_games.corr()"
   ]
  },
  {
   "cell_type": "code",
   "execution_count": 32,
   "metadata": {},
   "outputs": [
    {
     "data": {
      "image/png": "[encoded data removed]",
      "text/plain": [
       "<Figure size 432x288 with 2 Axes>"
      ]
     },
     "metadata": {
      "needs_background": "light"
     },
     "output_type": "display_data"
    }
   ],
   "source": [
    "sns.heatmap(data_corr)\n",
    "plt.show()"
   ]
  },
  {
   "cell_type": "code",
   "execution_count": 33,
   "metadata": {},
   "outputs": [
    {
     "data": {
      "image/png": "[encoded data removed]",
      "text/plain": [
       "<Figure size 1080x720 with 2 Axes>"
      ]
     },
     "metadata": {},
     "output_type": "display_data"
    }
   ],
   "source": [
    "sns.set(style = 'white')\n",
    "mask = np.zeros_like(data_corr, dtype = np.bool)\n",
    "mask[np.triu_indices_from(mask)] = True\n",
    "for i in range(data_corr.shape[0]):\n",
    "    mask[i, i] = False\n",
    "f, ax = plt.subplots(figsize=(15, 10))\n",
    "cmap = sns.diverging_palette(220, 10, as_cmap = True)\n",
    "sns.heatmap(data_corr, mask = mask, vmax = 1, center = 0, square = True, linewidths = 0.5, cbar_kws = {'shrink': 0.5}, annot = True)\n",
    "plt.show()"
   ]
  },
  {
   "cell_type": "markdown",
   "metadata": {},
   "source": [
    "We can see that size has a high positive correlation with the user rating and arguably low negative correlation with the price. "
   ]
  },
  {
   "cell_type": "markdown",
   "metadata": {},
   "source": [
    "Add number of users as a feature"
   ]
  },
  {
   "cell_type": "code",
   "execution_count": null,
   "metadata": {},
   "outputs": [],
   "source": []
  }
 ],
 "metadata": {
  "kernelspec": {
   "display_name": "Python 3",
   "language": "python",
   "name": "python3"
  },
  "language_info": {
   "codemirror_mode": {
    "name": "ipython",
    "version": 3
   },
   "file_extension": ".py",
   "mimetype": "text/x-python",
   "name": "python",
   "nbconvert_exporter": "python",
   "pygments_lexer": "ipython3",
   "version": "3.7.3"
  }
 },
 "nbformat": 4,
 "nbformat_minor": 2
}
