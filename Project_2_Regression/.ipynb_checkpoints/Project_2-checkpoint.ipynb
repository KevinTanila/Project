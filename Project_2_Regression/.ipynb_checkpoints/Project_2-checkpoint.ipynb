{
 "cells": [
  {
   "cell_type": "markdown",
   "metadata": {},
   "source": [
    "# Creating Highly Rated App"
   ]
  },
  {
   "cell_type": "markdown",
   "metadata": {},
   "source": [
    "## Table of Content\n",
    "\n",
    "1. Problem Identification\n",
    "2. Exploratory Data Analysis\n",
    "3. Data cleaning.\n",
    "    - Column names\n",
    "    - Data types\n",
    "4. Feature creation\n",
    "5. Data visualisation\n",
    "6. Regression\n",
    "    - Linear multivariate regression\n",
    "    - Ridge regression\n",
    "7. Conclusion"
   ]
  },
  {
   "cell_type": "markdown",
   "metadata": {},
   "source": [
    "# 1. Problem Identification"
   ]
  },
  {
   "cell_type": "markdown",
   "metadata": {},
   "source": [
    "Phone applications have been a good way to earn money if the application is proven to satisfy downloaders. However, there are a lot of factors that may attract users to a certain app. I.E. genres, function of the app, pay wall, etc. This project is going to analyse factors mentioned using the available data. However, data provided may not be sufficient."
   ]
  },
  {
   "cell_type": "code",
   "execution_count": 1,
   "metadata": {},
   "outputs": [],
   "source": [
    "import numpy as np\n",
    "import math\n",
    "import seaborn as sns\n",
    "import pandas as pd\n",
    "\n",
    "from scipy import stats\n",
    "from matplotlib import pyplot as plt\n",
    "from sklearn.linear_model import LinearRegression\n",
    "from sklearn.linear_model import LogisticRegression\n",
    "from sklearn.linear_model import Ridge, RidgeCV\n",
    "\n",
    "from sklearn.metrics import mean_squared_error\n",
    "from sklearn.model_selection import cross_val_score\n",
    "from sklearn.model_selection import train_test_split\n",
    "\n",
    "sns.set_context('poster')\n",
    "sns.set(rc={'figure.figsize': (10, 6)})\n",
    "sns.set_style('whitegrid')"
   ]
  },
  {
   "cell_type": "code",
   "execution_count": 2,
   "metadata": {},
   "outputs": [],
   "source": [
    "data = pd.read_csv('appstore_games.csv', index_col = 'ID')"
   ]
  },
  {
   "cell_type": "markdown",
   "metadata": {},
   "source": [
    "# 2. Exploratory Data Analysis"
   ]
  },
  {
   "cell_type": "code",
   "execution_count": 3,
   "metadata": {},
   "outputs": [],
   "source": [
    "n = 120"
   ]
  },
  {
   "cell_type": "code",
   "execution_count": 4,
   "metadata": {},
   "outputs": [
    {
     "name": "stdout",
     "output_type": "stream",
     "text": [
      "========================================================================================================================\n",
      "Shape\n",
      "(17007, 17)\n",
      "========================================================================================================================\n"
     ]
    }
   ],
   "source": [
    "# Shape of the data\n",
    "\n",
    "print(\"=\" * n)\n",
    "print(\"Shape\")\n",
    "print(data.shape)\n",
    "print(\"=\" * n)"
   ]
  },
  {
   "cell_type": "code",
   "execution_count": 5,
   "metadata": {},
   "outputs": [
    {
     "name": "stdout",
     "output_type": "stream",
     "text": [
      "========================================================================================================================\n",
      "Columns\n",
      "Index(['URL', 'Name', 'Subtitle', 'Icon URL', 'Average User Rating',\n",
      "       'User Rating Count', 'Price', 'In-app Purchases', 'Description',\n",
      "       'Developer', 'Age Rating', 'Languages', 'Size', 'Primary Genre',\n",
      "       'Genres', 'Original Release Date', 'Current Version Release Date'],\n",
      "      dtype='object')\n",
      "========================================================================================================================\n"
     ]
    }
   ],
   "source": [
    "# Column names\n",
    "\n",
    "print(\"=\" * n)\n",
    "print(\"Columns\")\n",
    "print(data.columns)\n",
    "print(\"=\" * n)"
   ]
  },
  {
   "cell_type": "code",
   "execution_count": 6,
   "metadata": {},
   "outputs": [
    {
     "name": "stdout",
     "output_type": "stream",
     "text": [
      "========================================================================================================================\n",
      "First 5 columns\n",
      "                                                         URL           Name  \\\n",
      "ID                                                                            \n",
      "284921427   https://apps.apple.com/us/app/sudoku/id284921427         Sudoku   \n",
      "284926400  https://apps.apple.com/us/app/reversi/id284926400        Reversi   \n",
      "284946595  https://apps.apple.com/us/app/morocco/id284946595        Morocco   \n",
      "285755462  https://apps.apple.com/us/app/sudoku-free/id28...  Sudoku (Free)   \n",
      "285831220  https://apps.apple.com/us/app/senet-deluxe/id2...   Senet Deluxe   \n",
      "\n",
      "          Subtitle                                           Icon URL  \\\n",
      "ID                                                                      \n",
      "284921427      NaN  https://is2-ssl.mzstatic.com/image/thumb/Purpl...   \n",
      "284926400      NaN  https://is4-ssl.mzstatic.com/image/thumb/Purpl...   \n",
      "284946595      NaN  https://is5-ssl.mzstatic.com/image/thumb/Purpl...   \n",
      "285755462      NaN  https://is3-ssl.mzstatic.com/image/thumb/Purpl...   \n",
      "285831220      NaN  https://is1-ssl.mzstatic.com/image/thumb/Purpl...   \n",
      "\n",
      "           Average User Rating  User Rating Count  Price In-app Purchases  \\\n",
      "ID                                                                          \n",
      "284921427                  4.0             3553.0   2.99              NaN   \n",
      "284926400                  3.5              284.0   1.99              NaN   \n",
      "284946595                  3.0             8376.0   0.00              NaN   \n",
      "285755462                  3.5           190394.0   0.00              NaN   \n",
      "285831220                  3.5               28.0   2.99              NaN   \n",
      "\n",
      "                                                 Description  \\\n",
      "ID                                                             \n",
      "284921427  Join over 21,000,000 of our fans and download ...   \n",
      "284926400  The classic game of Reversi, also known as Oth...   \n",
      "284946595  Play the classic strategy game Othello (also k...   \n",
      "285755462  Top 100 free app for over a year.\\nRated \"Best...   \n",
      "285831220  \"Senet Deluxe - The Ancient Game of Life and A...   \n",
      "\n",
      "                          Developer Age Rating  \\\n",
      "ID                                               \n",
      "284921427  Mighty Mighty Good Games         4+   \n",
      "284926400          Kiss The Machine         4+   \n",
      "284946595               Bayou Games         4+   \n",
      "285755462  Mighty Mighty Good Games         4+   \n",
      "285831220           RoGame Software         4+   \n",
      "\n",
      "                                                   Languages        Size  \\\n",
      "ID                                                                         \n",
      "284921427  DA, NL, EN, FI, FR, DE, IT, JA, KO, NB, PL, PT...  15853568.0   \n",
      "284926400                                                 EN  12328960.0   \n",
      "284946595                                                 EN    674816.0   \n",
      "285755462  DA, NL, EN, FI, FR, DE, IT, JA, KO, NB, PL, PT...  21552128.0   \n",
      "285831220  DA, NL, EN, FR, DE, EL, IT, JA, KO, NO, PT, RU...  34689024.0   \n",
      "\n",
      "          Primary Genre                             Genres  \\\n",
      "ID                                                           \n",
      "284921427         Games            Games, Strategy, Puzzle   \n",
      "284926400         Games             Games, Strategy, Board   \n",
      "284946595         Games             Games, Board, Strategy   \n",
      "285755462         Games            Games, Strategy, Puzzle   \n",
      "285831220         Games  Games, Strategy, Board, Education   \n",
      "\n",
      "          Original Release Date Current Version Release Date  \n",
      "ID                                                            \n",
      "284921427            11/07/2008                   30/05/2017  \n",
      "284926400            11/07/2008                   17/05/2018  \n",
      "284946595            11/07/2008                    5/09/2017  \n",
      "285755462            23/07/2008                   30/05/2017  \n",
      "285831220            18/07/2008                   22/07/2018  \n",
      "========================================================================================================================\n"
     ]
    }
   ],
   "source": [
    "# First 5 rows\n",
    "\n",
    "print(\"=\" * n)\n",
    "print(\"First 5 columns\")\n",
    "print(data.head())\n",
    "print(\"=\" * n)"
   ]
  },
  {
   "cell_type": "code",
   "execution_count": 7,
   "metadata": {},
   "outputs": [
    {
     "name": "stdout",
     "output_type": "stream",
     "text": [
      "========================================================================================================================\n",
      "Last 5 columns\n",
      "                                                          URL  \\\n",
      "ID                                                              \n",
      "1474626442  https://apps.apple.com/us/app/stack-puzzle-ris...   \n",
      "1474919257  https://apps.apple.com/us/app/eachother/id1474...   \n",
      "1474962324  https://apps.apple.com/us/app/rabbit-vs-tortoi...   \n",
      "1474963671  https://apps.apple.com/us/app/fatall/id1474963671   \n",
      "1475076711  https://apps.apple.com/us/app/the-three-kingdo...   \n",
      "\n",
      "                                 Name                        Subtitle  \\\n",
      "ID                                                                      \n",
      "1474626442  Stack Puzzle : Rise Tower  Blast the cubes, solve puzzle!   \n",
      "1474919257                  EachOther                             NaN   \n",
      "1474962324         Rabbit Vs Tortoise                             NaN   \n",
      "1474963671                     FaTaLL                Most fun game!!!   \n",
      "1475076711   The Three Kingdoms :Bomb                             NaN   \n",
      "\n",
      "                                                     Icon URL  \\\n",
      "ID                                                              \n",
      "1474626442  https://is5-ssl.mzstatic.com/image/thumb/Purpl...   \n",
      "1474919257  https://is2-ssl.mzstatic.com/image/thumb/Purpl...   \n",
      "1474962324  https://is2-ssl.mzstatic.com/image/thumb/Purpl...   \n",
      "1474963671  https://is1-ssl.mzstatic.com/image/thumb/Purpl...   \n",
      "1475076711  https://is1-ssl.mzstatic.com/image/thumb/Purpl...   \n",
      "\n",
      "            Average User Rating  User Rating Count  Price   In-app Purchases  \\\n",
      "ID                                                                             \n",
      "1474626442                  NaN                NaN    0.0                NaN   \n",
      "1474919257                  NaN                NaN    0.0                NaN   \n",
      "1474962324                  NaN                NaN    0.0                NaN   \n",
      "1474963671                  NaN                NaN    0.0  9.99, 49.99, 3.99   \n",
      "1475076711                  NaN                NaN    0.0                NaN   \n",
      "\n",
      "                                                  Description      Developer  \\\n",
      "ID                                                                             \n",
      "1474626442  The goal is very simple, move the square horiz...    Zhigang Pei   \n",
      "1474919257  Collect a score while you play!!\\n\\nBy linking...  Sultan Shindi   \n",
      "1474962324  \"Rabbit Vs Tortoise is chess type cool simple ...  Vishal Baldha   \n",
      "1474963671  Upgrade your character and use your skills to ...   Tayrem Games   \n",
      "1475076711  The protagonist uses the method of placing a b...   ming bo tang   \n",
      "\n",
      "           Age Rating Languages         Size Primary Genre  \\\n",
      "ID                                                           \n",
      "1474626442         4+        EN   64795648.0         Games   \n",
      "1474919257         4+        EN  110341120.0         Games   \n",
      "1474962324         4+        EN   23207936.0         Games   \n",
      "1474963671         4+        EN  196750336.0         Games   \n",
      "1475076711         4+    EN, ZH   22952960.0         Games   \n",
      "\n",
      "                                            Genres Original Release Date  \\\n",
      "ID                                                                         \n",
      "1474626442  Games, Entertainment, Casual, Strategy            30/07/2019   \n",
      "1474919257                 Games, Family, Strategy             1/08/2019   \n",
      "1474962324                         Games, Strategy             3/08/2019   \n",
      "1474963671                 Games, Strategy, Action             1/08/2019   \n",
      "1475076711                 Games, Strategy, Puzzle             2/08/2019   \n",
      "\n",
      "           Current Version Release Date  \n",
      "ID                                       \n",
      "1474626442                   30/07/2019  \n",
      "1474919257                    1/08/2019  \n",
      "1474962324                    3/08/2019  \n",
      "1474963671                    1/08/2019  \n",
      "1475076711                    2/08/2019  \n",
      "========================================================================================================================\n"
     ]
    }
   ],
   "source": [
    "# Last 5 columns\n",
    "\n",
    "print(\"=\" * n)\n",
    "print(\"Last 5 columns\")\n",
    "print(data.tail())\n",
    "print(\"=\" * n)"
   ]
  },
  {
   "cell_type": "code",
   "execution_count": 8,
   "metadata": {},
   "outputs": [
    {
     "name": "stdout",
     "output_type": "stream",
     "text": [
      "========================================================================================================================\n",
      "Data types\n",
      "URL                              object\n",
      "Name                             object\n",
      "Subtitle                         object\n",
      "Icon URL                         object\n",
      "Average User Rating             float64\n",
      "User Rating Count               float64\n",
      "Price                           float64\n",
      "In-app Purchases                 object\n",
      "Description                      object\n",
      "Developer                        object\n",
      "Age Rating                       object\n",
      "Languages                        object\n",
      "Size                            float64\n",
      "Primary Genre                    object\n",
      "Genres                           object\n",
      "Original Release Date            object\n",
      "Current Version Release Date     object\n",
      "dtype: object\n",
      "========================================================================================================================\n"
     ]
    }
   ],
   "source": [
    "# Data types within each column\n",
    "\n",
    "print(\"=\" * n)\n",
    "print(\"Data types\")\n",
    "print(data.dtypes)\n",
    "print(\"=\" * n)"
   ]
  },
  {
   "cell_type": "code",
   "execution_count": 9,
   "metadata": {},
   "outputs": [
    {
     "name": "stdout",
     "output_type": "stream",
     "text": [
      "========================================================================================================================\n",
      "Data descriptions\n",
      "       Average User Rating  User Rating Count         Price          Size\n",
      "count          7561.000000       7.561000e+03  16983.000000  1.700600e+04\n",
      "mean              4.060905       3.306531e+03      0.813419  1.157064e+08\n",
      "std               0.751428       4.232256e+04      7.835732  2.036477e+08\n",
      "min               1.000000       5.000000e+00      0.000000  5.132800e+04\n",
      "25%               3.500000       1.200000e+01      0.000000  2.295014e+07\n",
      "50%               4.500000       4.600000e+01      0.000000  5.676895e+07\n",
      "75%               4.500000       3.090000e+02      0.000000  1.330271e+08\n",
      "max               5.000000       3.032734e+06    179.990000  4.005591e+09\n",
      "========================================================================================================================\n"
     ]
    }
   ],
   "source": [
    "# Data Descriptions\n",
    "\n",
    "print(\"=\" * n)\n",
    "print(\"Data descriptions\")\n",
    "print(data.describe())\n",
    "print(\"=\" * n)"
   ]
  },
  {
   "cell_type": "code",
   "execution_count": 10,
   "metadata": {},
   "outputs": [
    {
     "name": "stdout",
     "output_type": "stream",
     "text": [
      "========================================================================================================================\n",
      "Null check\n",
      "URL                                 0\n",
      "Name                                0\n",
      "Subtitle                        11746\n",
      "Icon URL                            0\n",
      "Average User Rating              9446\n",
      "User Rating Count                9446\n",
      "Price                              24\n",
      "In-app Purchases                 9324\n",
      "Description                         0\n",
      "Developer                           0\n",
      "Age Rating                          0\n",
      "Languages                          60\n",
      "Size                                1\n",
      "Primary Genre                       0\n",
      "Genres                              0\n",
      "Original Release Date               0\n",
      "Current Version Release Date        0\n",
      "dtype: int64\n",
      "========================================================================================================================\n"
     ]
    }
   ],
   "source": [
    "# Null checks\n",
    "\n",
    "print(\"=\" * n)\n",
    "print(\"Null check\")\n",
    "print(data.isnull().sum())\n",
    "print(\"=\" * n)"
   ]
  },
  {
   "cell_type": "code",
   "execution_count": 11,
   "metadata": {},
   "outputs": [
    {
     "name": "stdout",
     "output_type": "stream",
     "text": [
      "========================================================================================================================\n",
      "Info\n",
      "<class 'pandas.core.frame.DataFrame'>\n",
      "Int64Index: 17007 entries, 284921427 to 1475076711\n",
      "Data columns (total 17 columns):\n",
      "URL                             17007 non-null object\n",
      "Name                            17007 non-null object\n",
      "Subtitle                        5261 non-null object\n",
      "Icon URL                        17007 non-null object\n",
      "Average User Rating             7561 non-null float64\n",
      "User Rating Count               7561 non-null float64\n",
      "Price                           16983 non-null float64\n",
      "In-app Purchases                7683 non-null object\n",
      "Description                     17007 non-null object\n",
      "Developer                       17007 non-null object\n",
      "Age Rating                      17007 non-null object\n",
      "Languages                       16947 non-null object\n",
      "Size                            17006 non-null float64\n",
      "Primary Genre                   17007 non-null object\n",
      "Genres                          17007 non-null object\n",
      "Original Release Date           17007 non-null object\n",
      "Current Version Release Date    17007 non-null object\n",
      "dtypes: float64(4), object(13)\n",
      "memory usage: 2.3+ MB\n",
      "None\n",
      "========================================================================================================================\n"
     ]
    }
   ],
   "source": [
    "# More information of the data\n",
    "\n",
    "print(\"=\" * n)\n",
    "print(\"Info\")\n",
    "print(data.info())\n",
    "print(\"=\" * n)"
   ]
  },
  {
   "cell_type": "markdown",
   "metadata": {},
   "source": [
    "# 3. Data Cleaning"
   ]
  },
  {
   "cell_type": "markdown",
   "metadata": {},
   "source": [
    "### 3.1. Data cleaning"
   ]
  },
  {
   "cell_type": "markdown",
   "metadata": {},
   "source": [
    "Notice the column names are:\n",
    "\n",
    "- 'URL'\n",
    "- 'ID'\n",
    "- 'Name'\n",
    "- 'Subtitle'\n",
    "- 'Icon URL'\n",
    "- 'Average User Rating',\n",
    "- 'User Rating Count'\n",
    "- 'Price'\n",
    "- 'In-app Purchases'\n",
    "- 'Description'\n",
    "- 'Developer'\n",
    "- 'Age Rating'\n",
    "- 'Languages'\n",
    "- 'Size'\n",
    "- 'Primary Genre'\n",
    "- 'Genres'\n",
    "- 'Original Release Date'\n",
    "- 'Current Version Release Date'"
   ]
  },
  {
   "cell_type": "code",
   "execution_count": 12,
   "metadata": {},
   "outputs": [],
   "source": [
    "# Cleaning column name function\n",
    "\n",
    "def clean_column_name(column_names):\n",
    "    clean_column_names = []\n",
    "    for c in column_names:\n",
    "        c = c.lower().replace(' ', '_')\n",
    "        c = c.lower().replace('*', '')\n",
    "        c = c.lower().replace('?', '')\n",
    "        c = c.lower().replace('-', '_')\n",
    "        clean_column_names.append(c)\n",
    "    return clean_column_names"
   ]
  },
  {
   "cell_type": "code",
   "execution_count": 13,
   "metadata": {},
   "outputs": [],
   "source": [
    "data.columns = clean_column_name(data.columns)"
   ]
  },
  {
   "cell_type": "markdown",
   "metadata": {},
   "source": [
    "Re-checking the names"
   ]
  },
  {
   "cell_type": "code",
   "execution_count": 14,
   "metadata": {},
   "outputs": [
    {
     "data": {
      "text/plain": [
       "Index(['url', 'name', 'subtitle', 'icon_url', 'average_user_rating',\n",
       "       'user_rating_count', 'price', 'in_app_purchases', 'description',\n",
       "       'developer', 'age_rating', 'languages', 'size', 'primary_genre',\n",
       "       'genres', 'original_release_date', 'current_version_release_date'],\n",
       "      dtype='object')"
      ]
     },
     "execution_count": 14,
     "metadata": {},
     "output_type": "execute_result"
    }
   ],
   "source": [
    "data.columns"
   ]
  },
  {
   "cell_type": "markdown",
   "metadata": {},
   "source": [
    "The column names are now fixed. Notice that there are datas that has the types that they are not supposed to have.\n",
    "\n",
    "i.e. dates within the data which are not in date time format yet."
   ]
  },
  {
   "cell_type": "code",
   "execution_count": 15,
   "metadata": {},
   "outputs": [
    {
     "data": {
      "text/html": [
       "<div>\n",
       "<style scoped>\n",
       "    .dataframe tbody tr th:only-of-type {\n",
       "        vertical-align: middle;\n",
       "    }\n",
       "\n",
       "    .dataframe tbody tr th {\n",
       "        vertical-align: top;\n",
       "    }\n",
       "\n",
       "    .dataframe thead th {\n",
       "        text-align: right;\n",
       "    }\n",
       "</style>\n",
       "<table border=\"1\" class=\"dataframe\">\n",
       "  <thead>\n",
       "    <tr style=\"text-align: right;\">\n",
       "      <th></th>\n",
       "      <th>original_release_date</th>\n",
       "      <th>current_version_release_date</th>\n",
       "    </tr>\n",
       "    <tr>\n",
       "      <th>ID</th>\n",
       "      <th></th>\n",
       "      <th></th>\n",
       "    </tr>\n",
       "  </thead>\n",
       "  <tbody>\n",
       "    <tr>\n",
       "      <th>284921427</th>\n",
       "      <td>11/07/2008</td>\n",
       "      <td>30/05/2017</td>\n",
       "    </tr>\n",
       "    <tr>\n",
       "      <th>284926400</th>\n",
       "      <td>11/07/2008</td>\n",
       "      <td>17/05/2018</td>\n",
       "    </tr>\n",
       "    <tr>\n",
       "      <th>284946595</th>\n",
       "      <td>11/07/2008</td>\n",
       "      <td>5/09/2017</td>\n",
       "    </tr>\n",
       "    <tr>\n",
       "      <th>285755462</th>\n",
       "      <td>23/07/2008</td>\n",
       "      <td>30/05/2017</td>\n",
       "    </tr>\n",
       "    <tr>\n",
       "      <th>285831220</th>\n",
       "      <td>18/07/2008</td>\n",
       "      <td>22/07/2018</td>\n",
       "    </tr>\n",
       "  </tbody>\n",
       "</table>\n",
       "</div>"
      ],
      "text/plain": [
       "          original_release_date current_version_release_date\n",
       "ID                                                          \n",
       "284921427            11/07/2008                   30/05/2017\n",
       "284926400            11/07/2008                   17/05/2018\n",
       "284946595            11/07/2008                    5/09/2017\n",
       "285755462            23/07/2008                   30/05/2017\n",
       "285831220            18/07/2008                   22/07/2018"
      ]
     },
     "execution_count": 15,
     "metadata": {},
     "output_type": "execute_result"
    }
   ],
   "source": [
    "data[['original_release_date', 'current_version_release_date']].head()"
   ]
  },
  {
   "cell_type": "code",
   "execution_count": 16,
   "metadata": {},
   "outputs": [],
   "source": [
    "# type conversion to date time\n",
    "\n",
    "data['original_release_date'] = pd.to_datetime(data['original_release_date'])\n",
    "data['current_version_release_date'] = pd.to_datetime(data['current_version_release_date'])"
   ]
  },
  {
   "cell_type": "code",
   "execution_count": 17,
   "metadata": {},
   "outputs": [
    {
     "data": {
      "text/plain": [
       "original_release_date           datetime64[ns]\n",
       "current_version_release_date    datetime64[ns]\n",
       "dtype: object"
      ]
     },
     "execution_count": 17,
     "metadata": {},
     "output_type": "execute_result"
    }
   ],
   "source": [
    "data[['original_release_date', 'current_version_release_date']].dtypes"
   ]
  },
  {
   "cell_type": "markdown",
   "metadata": {},
   "source": [
    "Looking at the nulls in the subtitle column, it is possible to remove this column. We can also remove the non-numerical columns as well."
   ]
  },
  {
   "cell_type": "code",
   "execution_count": 18,
   "metadata": {},
   "outputs": [
    {
     "data": {
      "text/html": [
       "<div>\n",
       "<style scoped>\n",
       "    .dataframe tbody tr th:only-of-type {\n",
       "        vertical-align: middle;\n",
       "    }\n",
       "\n",
       "    .dataframe tbody tr th {\n",
       "        vertical-align: top;\n",
       "    }\n",
       "\n",
       "    .dataframe thead th {\n",
       "        text-align: right;\n",
       "    }\n",
       "</style>\n",
       "<table border=\"1\" class=\"dataframe\">\n",
       "  <thead>\n",
       "    <tr style=\"text-align: right;\">\n",
       "      <th></th>\n",
       "      <th>name</th>\n",
       "      <th>average_user_rating</th>\n",
       "      <th>user_rating_count</th>\n",
       "      <th>price</th>\n",
       "      <th>in_app_purchases</th>\n",
       "      <th>age_rating</th>\n",
       "      <th>size</th>\n",
       "      <th>primary_genre</th>\n",
       "      <th>original_release_date</th>\n",
       "      <th>current_version_release_date</th>\n",
       "    </tr>\n",
       "    <tr>\n",
       "      <th>ID</th>\n",
       "      <th></th>\n",
       "      <th></th>\n",
       "      <th></th>\n",
       "      <th></th>\n",
       "      <th></th>\n",
       "      <th></th>\n",
       "      <th></th>\n",
       "      <th></th>\n",
       "      <th></th>\n",
       "      <th></th>\n",
       "    </tr>\n",
       "  </thead>\n",
       "  <tbody>\n",
       "    <tr>\n",
       "      <th>284921427</th>\n",
       "      <td>Sudoku</td>\n",
       "      <td>4.0</td>\n",
       "      <td>3553.0</td>\n",
       "      <td>2.99</td>\n",
       "      <td>NaN</td>\n",
       "      <td>4+</td>\n",
       "      <td>15853568.0</td>\n",
       "      <td>Games</td>\n",
       "      <td>2008-11-07</td>\n",
       "      <td>2017-05-30</td>\n",
       "    </tr>\n",
       "    <tr>\n",
       "      <th>284926400</th>\n",
       "      <td>Reversi</td>\n",
       "      <td>3.5</td>\n",
       "      <td>284.0</td>\n",
       "      <td>1.99</td>\n",
       "      <td>NaN</td>\n",
       "      <td>4+</td>\n",
       "      <td>12328960.0</td>\n",
       "      <td>Games</td>\n",
       "      <td>2008-11-07</td>\n",
       "      <td>2018-05-17</td>\n",
       "    </tr>\n",
       "    <tr>\n",
       "      <th>284946595</th>\n",
       "      <td>Morocco</td>\n",
       "      <td>3.0</td>\n",
       "      <td>8376.0</td>\n",
       "      <td>0.00</td>\n",
       "      <td>NaN</td>\n",
       "      <td>4+</td>\n",
       "      <td>674816.0</td>\n",
       "      <td>Games</td>\n",
       "      <td>2008-11-07</td>\n",
       "      <td>2017-05-09</td>\n",
       "    </tr>\n",
       "    <tr>\n",
       "      <th>285755462</th>\n",
       "      <td>Sudoku (Free)</td>\n",
       "      <td>3.5</td>\n",
       "      <td>190394.0</td>\n",
       "      <td>0.00</td>\n",
       "      <td>NaN</td>\n",
       "      <td>4+</td>\n",
       "      <td>21552128.0</td>\n",
       "      <td>Games</td>\n",
       "      <td>2008-07-23</td>\n",
       "      <td>2017-05-30</td>\n",
       "    </tr>\n",
       "    <tr>\n",
       "      <th>285831220</th>\n",
       "      <td>Senet Deluxe</td>\n",
       "      <td>3.5</td>\n",
       "      <td>28.0</td>\n",
       "      <td>2.99</td>\n",
       "      <td>NaN</td>\n",
       "      <td>4+</td>\n",
       "      <td>34689024.0</td>\n",
       "      <td>Games</td>\n",
       "      <td>2008-07-18</td>\n",
       "      <td>2018-07-22</td>\n",
       "    </tr>\n",
       "  </tbody>\n",
       "</table>\n",
       "</div>"
      ],
      "text/plain": [
       "                    name  average_user_rating  user_rating_count  price  \\\n",
       "ID                                                                        \n",
       "284921427         Sudoku                  4.0             3553.0   2.99   \n",
       "284926400        Reversi                  3.5              284.0   1.99   \n",
       "284946595        Morocco                  3.0             8376.0   0.00   \n",
       "285755462  Sudoku (Free)                  3.5           190394.0   0.00   \n",
       "285831220   Senet Deluxe                  3.5               28.0   2.99   \n",
       "\n",
       "          in_app_purchases age_rating        size primary_genre  \\\n",
       "ID                                                                \n",
       "284921427              NaN         4+  15853568.0         Games   \n",
       "284926400              NaN         4+  12328960.0         Games   \n",
       "284946595              NaN         4+    674816.0         Games   \n",
       "285755462              NaN         4+  21552128.0         Games   \n",
       "285831220              NaN         4+  34689024.0         Games   \n",
       "\n",
       "          original_release_date current_version_release_date  \n",
       "ID                                                            \n",
       "284921427            2008-11-07                   2017-05-30  \n",
       "284926400            2008-11-07                   2018-05-17  \n",
       "284946595            2008-11-07                   2017-05-09  \n",
       "285755462            2008-07-23                   2017-05-30  \n",
       "285831220            2008-07-18                   2018-07-22  "
      ]
     },
     "execution_count": 18,
     "metadata": {},
     "output_type": "execute_result"
    }
   ],
   "source": [
    "# removing a column\n",
    "\n",
    "data.drop(columns = ['subtitle', 'url', 'icon_url', 'description', 'developer', 'languages', 'genres'], inplace = True)\n",
    "\n",
    "data.head()"
   ]
  },
  {
   "cell_type": "markdown",
   "metadata": {},
   "source": [
    "### 3.2. Null conversions."
   ]
  },
  {
   "cell_type": "markdown",
   "metadata": {},
   "source": [
    "While other columns that has nulls, like prices and ratings, the numbers can be substituted by 0. "
   ]
  },
  {
   "cell_type": "code",
   "execution_count": 19,
   "metadata": {},
   "outputs": [],
   "source": [
    "data.fillna(0, inplace = True)"
   ]
  },
  {
   "cell_type": "code",
   "execution_count": 20,
   "metadata": {},
   "outputs": [
    {
     "data": {
      "text/plain": [
       "name                            0\n",
       "average_user_rating             0\n",
       "user_rating_count               0\n",
       "price                           0\n",
       "in_app_purchases                0\n",
       "age_rating                      0\n",
       "size                            0\n",
       "primary_genre                   0\n",
       "original_release_date           0\n",
       "current_version_release_date    0\n",
       "dtype: int64"
      ]
     },
     "execution_count": 20,
     "metadata": {},
     "output_type": "execute_result"
    }
   ],
   "source": [
    "data.isnull().sum()"
   ]
  },
  {
   "cell_type": "markdown",
   "metadata": {},
   "source": [
    "# 4. Feature Creation"
   ]
  },
  {
   "cell_type": "markdown",
   "metadata": {},
   "source": [
    "Dummification of the in-app purchases into binary"
   ]
  },
  {
   "cell_type": "code",
   "execution_count": 21,
   "metadata": {},
   "outputs": [],
   "source": [
    "data['in_app_purchases_bool'] = data['in_app_purchases'].str.len() > 1"
   ]
  },
  {
   "cell_type": "markdown",
   "metadata": {},
   "source": [
    "Collecting number of users for each app"
   ]
  },
  {
   "cell_type": "code",
   "execution_count": 22,
   "metadata": {},
   "outputs": [],
   "source": [
    "data['number_of_users'] = data['user_rating_count'] / data['average_user_rating']"
   ]
  },
  {
   "cell_type": "markdown",
   "metadata": {},
   "source": [
    "# 5. Data Visualisation"
   ]
  },
  {
   "cell_type": "code",
   "execution_count": 23,
   "metadata": {},
   "outputs": [],
   "source": [
    "rated_games = data[data['average_user_rating'] > 0]"
   ]
  },
  {
   "cell_type": "code",
   "execution_count": 24,
   "metadata": {},
   "outputs": [
    {
     "data": {
      "text/plain": [
       "(array([  14.,   60.,  158.,  317.,    0.,  514.,  925., 1722., 2861.,\n",
       "         990.]),\n",
       " array([1. , 1.4, 1.8, 2.2, 2.6, 3. , 3.4, 3.8, 4.2, 4.6, 5. ]),\n",
       " <a list of 10 Patch objects>)"
      ]
     },
     "execution_count": 24,
     "metadata": {},
     "output_type": "execute_result"
    },
    {
     "data": {
      "image/png": "[encoded data removed]",
      "text/plain": [
       "<Figure size 432x288 with 1 Axes>"
      ]
     },
     "metadata": {
      "needs_background": "light"
     },
     "output_type": "display_data"
    }
   ],
   "source": [
    "plt.hist(rated_games['average_user_rating'])"
   ]
  },
  {
   "cell_type": "code",
   "execution_count": 25,
   "metadata": {},
   "outputs": [
    {
     "name": "stdout",
     "output_type": "stream",
     "text": [
      "Skewness : -1.1578727416948889\n",
      "Kurtosis : 1.2176746073241334\n"
     ]
    }
   ],
   "source": [
    "print('Skewness : {}'.format(rated_games['average_user_rating'].skew()))\n",
    "print('Kurtosis : {}'.format(rated_games['average_user_rating'].kurt()))"
   ]
  },
  {
   "cell_type": "code",
   "execution_count": 26,
   "metadata": {},
   "outputs": [
    {
     "data": {
      "image/png": "[encoded data removed]",
      "text/plain": [
       "<Figure size 476.675x360 with 1 Axes>"
      ]
     },
     "metadata": {
      "needs_background": "light"
     },
     "output_type": "display_data"
    }
   ],
   "source": [
    "# plot a scatter plot on it with our data\n",
    "sns.lmplot('average_user_rating', 'price', rated_games, hue = 'in_app_purchases_bool', fit_reg = True)\n",
    "\n",
    "plt.xlabel('average_user_rating')\n",
    "plt.ylabel('price')\n",
    "\n",
    "plt.show();"
   ]
  },
  {
   "cell_type": "code",
   "execution_count": 27,
   "metadata": {},
   "outputs": [
    {
     "data": {
      "image/png": "[encoded data removed]",
      "text/plain": [
       "<Figure size 476.675x360 with 1 Axes>"
      ]
     },
     "metadata": {
      "needs_background": "light"
     },
     "output_type": "display_data"
    }
   ],
   "source": [
    "# Plot the data\n",
    "sns.lmplot('average_user_rating', 'size', rated_games, hue = 'in_app_purchases_bool', fit_reg = True)\n",
    "\n",
    "plt.xlabel('average_user_rating')\n",
    "plt.ylabel('size')\n",
    "\n",
    "plt.show();"
   ]
  },
  {
   "cell_type": "code",
   "execution_count": 28,
   "metadata": {},
   "outputs": [
    {
     "data": {
      "image/png": "[encoded data removed]",
      "text/plain": [
       "<Figure size 476.675x360 with 1 Axes>"
      ]
     },
     "metadata": {
      "needs_background": "light"
     },
     "output_type": "display_data"
    }
   ],
   "source": [
    "# Plot the data\n",
    "\n",
    "sns.lmplot('price', 'number_of_users', rated_games, hue = 'in_app_purchases_bool', fit_reg = False)\n",
    "\n",
    "plt.xlabel('Price')\n",
    "plt.ylabel('Number of Users')\n",
    "\n",
    "plt.show();"
   ]
  },
  {
   "cell_type": "code",
   "execution_count": 29,
   "metadata": {},
   "outputs": [
    {
     "data": {
      "image/png": "[encoded data removed]",
      "text/plain": [
       "<Figure size 476.675x360 with 1 Axes>"
      ]
     },
     "metadata": {
      "needs_background": "light"
     },
     "output_type": "display_data"
    }
   ],
   "source": [
    "sns.lmplot('size', 'number_of_users', rated_games, hue = 'in_app_purchases_bool', fit_reg = False)\n",
    "\n",
    "plt.xlabel('Size')\n",
    "plt.ylabel('Number of Users')\n",
    "\n",
    "plt.show();"
   ]
  },
  {
   "cell_type": "markdown",
   "metadata": {},
   "source": [
    "We can see that the price distribution is skewed to the left and distribution for the size is also roughly skewed to the left. This means that this will impact the regression later on."
   ]
  },
  {
   "cell_type": "markdown",
   "metadata": {},
   "source": [
    "# 6. Regression"
   ]
  },
  {
   "cell_type": "markdown",
   "metadata": {},
   "source": [
    "## 6.1 Linear Regression"
   ]
  },
  {
   "cell_type": "code",
   "execution_count": 30,
   "metadata": {},
   "outputs": [
    {
     "data": {
      "text/plain": [
       "array(['Games', 'Entertainment', 'Finance', 'Sports', 'Reference',\n",
       "       'Medical', 'Education', 'Utilities', 'Book', 'Travel',\n",
       "       'Productivity', 'Lifestyle', 'Business', 'News',\n",
       "       'Social Networking', 'Health & Fitness', 'Music', 'Stickers',\n",
       "       'Food & Drink', 'Shopping', 'Navigation'], dtype=object)"
      ]
     },
     "execution_count": 30,
     "metadata": {},
     "output_type": "execute_result"
    }
   ],
   "source": [
    "data['primary_genre'].unique()"
   ]
  },
  {
   "cell_type": "code",
   "execution_count": 31,
   "metadata": {},
   "outputs": [
    {
     "data": {
      "text/html": [
       "<div>\n",
       "<style scoped>\n",
       "    .dataframe tbody tr th:only-of-type {\n",
       "        vertical-align: middle;\n",
       "    }\n",
       "\n",
       "    .dataframe tbody tr th {\n",
       "        vertical-align: top;\n",
       "    }\n",
       "\n",
       "    .dataframe thead th {\n",
       "        text-align: right;\n",
       "    }\n",
       "</style>\n",
       "<table border=\"1\" class=\"dataframe\">\n",
       "  <thead>\n",
       "    <tr style=\"text-align: right;\">\n",
       "      <th></th>\n",
       "      <th>average_user_rating</th>\n",
       "    </tr>\n",
       "    <tr>\n",
       "      <th>primary_genre</th>\n",
       "      <th></th>\n",
       "    </tr>\n",
       "  </thead>\n",
       "  <tbody>\n",
       "    <tr>\n",
       "      <th>Games</th>\n",
       "      <td>16286</td>\n",
       "    </tr>\n",
       "    <tr>\n",
       "      <th>Education</th>\n",
       "      <td>222</td>\n",
       "    </tr>\n",
       "    <tr>\n",
       "      <th>Entertainment</th>\n",
       "      <td>198</td>\n",
       "    </tr>\n",
       "    <tr>\n",
       "      <th>Utilities</th>\n",
       "      <td>77</td>\n",
       "    </tr>\n",
       "    <tr>\n",
       "      <th>Sports</th>\n",
       "      <td>60</td>\n",
       "    </tr>\n",
       "    <tr>\n",
       "      <th>Reference</th>\n",
       "      <td>32</td>\n",
       "    </tr>\n",
       "    <tr>\n",
       "      <th>Stickers</th>\n",
       "      <td>29</td>\n",
       "    </tr>\n",
       "    <tr>\n",
       "      <th>Finance</th>\n",
       "      <td>18</td>\n",
       "    </tr>\n",
       "    <tr>\n",
       "      <th>Business</th>\n",
       "      <td>16</td>\n",
       "    </tr>\n",
       "    <tr>\n",
       "      <th>Productivity</th>\n",
       "      <td>15</td>\n",
       "    </tr>\n",
       "    <tr>\n",
       "      <th>Lifestyle</th>\n",
       "      <td>10</td>\n",
       "    </tr>\n",
       "    <tr>\n",
       "      <th>Social Networking</th>\n",
       "      <td>9</td>\n",
       "    </tr>\n",
       "    <tr>\n",
       "      <th>Book</th>\n",
       "      <td>9</td>\n",
       "    </tr>\n",
       "    <tr>\n",
       "      <th>News</th>\n",
       "      <td>7</td>\n",
       "    </tr>\n",
       "    <tr>\n",
       "      <th>Health &amp; Fitness</th>\n",
       "      <td>5</td>\n",
       "    </tr>\n",
       "    <tr>\n",
       "      <th>Food &amp; Drink</th>\n",
       "      <td>4</td>\n",
       "    </tr>\n",
       "    <tr>\n",
       "      <th>Navigation</th>\n",
       "      <td>3</td>\n",
       "    </tr>\n",
       "    <tr>\n",
       "      <th>Music</th>\n",
       "      <td>3</td>\n",
       "    </tr>\n",
       "    <tr>\n",
       "      <th>Medical</th>\n",
       "      <td>2</td>\n",
       "    </tr>\n",
       "    <tr>\n",
       "      <th>Shopping</th>\n",
       "      <td>1</td>\n",
       "    </tr>\n",
       "    <tr>\n",
       "      <th>Travel</th>\n",
       "      <td>1</td>\n",
       "    </tr>\n",
       "  </tbody>\n",
       "</table>\n",
       "</div>"
      ],
      "text/plain": [
       "                   average_user_rating\n",
       "primary_genre                         \n",
       "Games                            16286\n",
       "Education                          222\n",
       "Entertainment                      198\n",
       "Utilities                           77\n",
       "Sports                              60\n",
       "Reference                           32\n",
       "Stickers                            29\n",
       "Finance                             18\n",
       "Business                            16\n",
       "Productivity                        15\n",
       "Lifestyle                           10\n",
       "Social Networking                    9\n",
       "Book                                 9\n",
       "News                                 7\n",
       "Health & Fitness                     5\n",
       "Food & Drink                         4\n",
       "Navigation                           3\n",
       "Music                                3\n",
       "Medical                              2\n",
       "Shopping                             1\n",
       "Travel                               1"
      ]
     },
     "execution_count": 31,
     "metadata": {},
     "output_type": "execute_result"
    }
   ],
   "source": [
    "data[['average_user_rating', 'primary_genre']].groupby(['primary_genre']).count().sort_values(by = ['average_user_rating'], ascending = False)"
   ]
  },
  {
   "cell_type": "markdown",
   "metadata": {},
   "source": [
    "Most of the samples lie in games. Perhaps it is easier to use samples from the games genre."
   ]
  },
  {
   "cell_type": "markdown",
   "metadata": {},
   "source": [
    "For the variables that can predict the average user rating of games, these are the possible variables:\n",
    "\n",
    "- price\n",
    "- in-app purchases\n",
    "- age rating\n",
    "- size of the game\n",
    "\n",
    "In-app purchases is a categorical variable. This can't be used for explaining the linear regression"
   ]
  },
  {
   "cell_type": "markdown",
   "metadata": {},
   "source": [
    "Let us see the correlation of each variable."
   ]
  },
  {
   "cell_type": "code",
   "execution_count": 32,
   "metadata": {},
   "outputs": [],
   "source": [
    "data_corr = data.corr()"
   ]
  },
  {
   "cell_type": "code",
   "execution_count": 33,
   "metadata": {},
   "outputs": [
    {
     "data": {
      "image/png": "[encoded data removed]",
      "text/plain": [
       "<Figure size 1080x720 with 2 Axes>"
      ]
     },
     "metadata": {},
     "output_type": "display_data"
    }
   ],
   "source": [
    "sns.set(style = 'dark')\n",
    "mask = np.zeros_like(data_corr, dtype = np.bool)\n",
    "mask[np.triu_indices_from(mask)] = True\n",
    "for i in range(data_corr.shape[0]):\n",
    "    mask[i, i] = False\n",
    "f, ax = plt.subplots(figsize=(15, 10))\n",
    "cmap = sns.diverging_palette(220, 10, as_cmap = True)\n",
    "sns.heatmap(data_corr, mask = mask, vmax = 1, center = 0, square = True, linewidths = 0.5, cbar_kws = {'shrink': 0.5}, annot = True)\n",
    "plt.show()"
   ]
  },
  {
   "cell_type": "markdown",
   "metadata": {},
   "source": [
    "We can see that size has a correlation with the number of users and arguably low negative correlation with the price. This means both price and size can be used for the multivariate regression. We can ignore the other 2 potential variables for now."
   ]
  },
  {
   "cell_type": "markdown",
   "metadata": {},
   "source": [
    "We will predict the value of user rating of games. However, some games may not be rated or are new, so ratings may not be available. These games can be excluded from the testing."
   ]
  },
  {
   "cell_type": "code",
   "execution_count": 34,
   "metadata": {},
   "outputs": [],
   "source": [
    "samples = data[(data['average_user_rating'] > 0) & (data['primary_genre'] == 'Games')]"
   ]
  },
  {
   "cell_type": "markdown",
   "metadata": {},
   "source": [
    "Setting up the target."
   ]
  },
  {
   "cell_type": "code",
   "execution_count": 35,
   "metadata": {},
   "outputs": [],
   "source": [
    "y = samples['number_of_users']"
   ]
  },
  {
   "cell_type": "markdown",
   "metadata": {},
   "source": [
    "Setting up the Predictors"
   ]
  },
  {
   "cell_type": "code",
   "execution_count": 36,
   "metadata": {},
   "outputs": [],
   "source": [
    "X = samples[['price', 'size']]"
   ]
  },
  {
   "cell_type": "code",
   "execution_count": 37,
   "metadata": {},
   "outputs": [],
   "source": [
    "# Setting the train and test data\n",
    "\n",
    "X_train, X_test, y_train, y_test = train_test_split(X, y, test_size = 0.2)"
   ]
  },
  {
   "cell_type": "code",
   "execution_count": 38,
   "metadata": {},
   "outputs": [
    {
     "name": "stdout",
     "output_type": "stream",
     "text": [
      "[-1.43002883e+02  1.76701764e-06] 611.9440927194161\n"
     ]
    }
   ],
   "source": [
    "# Multivariate linear regression\n",
    "\n",
    "linreg = LinearRegression()\n",
    "linreg.fit(X_train, y_train)\n",
    "\n",
    "print(linreg.coef_, linreg.intercept_)"
   ]
  },
  {
   "cell_type": "code",
   "execution_count": 39,
   "metadata": {},
   "outputs": [
    {
     "data": {
      "text/plain": [
       "-0.0007489239563231997"
      ]
     },
     "execution_count": 39,
     "metadata": {},
     "output_type": "execute_result"
    }
   ],
   "source": [
    "linreg.score(X_test, y_test)"
   ]
  },
  {
   "cell_type": "code",
   "execution_count": 40,
   "metadata": {},
   "outputs": [],
   "source": [
    "def view_coeff(X, model):\n",
    "    model_coefs = pd.DataFrame({'variable': X.columns,\n",
    "                                'coef': model.coef_,\n",
    "                                'abs_coef': np.abs(model.coef_)})\n",
    "    model_coefs.sort_values('abs_coef', inplace=True, ascending=False)\n",
    "    sns.barplot(x=\"variable\", y=\"coef\", data=model_coefs)"
   ]
  },
  {
   "cell_type": "code",
   "execution_count": 41,
   "metadata": {},
   "outputs": [
    {
     "data": {
      "image/png": "[encoded data removed]",
      "text/plain": [
       "<Figure size 432x288 with 1 Axes>"
      ]
     },
     "metadata": {},
     "output_type": "display_data"
    }
   ],
   "source": [
    "view_coeff(X, linreg)"
   ]
  },
  {
   "cell_type": "markdown",
   "metadata": {},
   "source": [
    "From the regression, we can see that the regression line will be:\n",
    "\n",
    "        number_of_users = 611.9441 - 0.01430 (price) + 0.00000 (size)\n",
    "\n",
    "This means that for every increase in one dollar in price, the rating of the game increases by 0.01166 keeping other variables constant. Size of the game gives a very small impact to the movement of the rating of the game. "
   ]
  },
  {
   "cell_type": "markdown",
   "metadata": {},
   "source": [
    "This is hard to tell whether the size has an impact to the regression. To compare between the variables, we need to standardize the variables. However, the data is not normally distributed. So, we need to do robust Z-score for comparisons."
   ]
  },
  {
   "cell_type": "code",
   "execution_count": 42,
   "metadata": {},
   "outputs": [],
   "source": [
    "# Robust Z-Score requirements\n",
    "\n",
    "# Median and Mean Absolute Deviation\n",
    "\n",
    "median_price = data['price'].median()\n",
    "mad_price = data['price'].mad()\n",
    "\n",
    "median_size = data['size'].median()\n",
    "mad_size = data['size'].mad()"
   ]
  },
  {
   "cell_type": "code",
   "execution_count": 43,
   "metadata": {},
   "outputs": [],
   "source": [
    "data['price_standardize'] = (data['price'] - median_price)/ mad_price"
   ]
  },
  {
   "cell_type": "code",
   "execution_count": 44,
   "metadata": {},
   "outputs": [],
   "source": [
    "data['size_standardize'] = (data['size'] - median_size)/ mad_size"
   ]
  },
  {
   "cell_type": "code",
   "execution_count": 45,
   "metadata": {},
   "outputs": [],
   "source": [
    "samples = data[(data['average_user_rating'] > 0) & (data['primary_genre'] == 'Games')]\n",
    "\n",
    "y = samples['number_of_users']\n",
    "x = samples[['price_standardize', 'size_standardize']]"
   ]
  },
  {
   "cell_type": "code",
   "execution_count": 46,
   "metadata": {},
   "outputs": [],
   "source": [
    "# Setting the train and test data\n",
    "\n",
    "X_train, X_test, y_train, y_test = train_test_split(x, y, test_size = 0.2)"
   ]
  },
  {
   "cell_type": "code",
   "execution_count": 47,
   "metadata": {},
   "outputs": [
    {
     "name": "stdout",
     "output_type": "stream",
     "text": [
      "[-146.13939048   87.94997488] 780.3280985985033\n"
     ]
    }
   ],
   "source": [
    "# Multivariate linear regression\n",
    "\n",
    "linreg = LinearRegression()\n",
    "linreg.fit(X_train, y_train)\n",
    "\n",
    "print(linreg.coef_, linreg.intercept_)"
   ]
  },
  {
   "cell_type": "code",
   "execution_count": 48,
   "metadata": {},
   "outputs": [
    {
     "data": {
      "text/plain": [
       "0.014396879369695803"
      ]
     },
     "execution_count": 48,
     "metadata": {},
     "output_type": "execute_result"
    }
   ],
   "source": [
    "linreg.score(X_test, y_test)"
   ]
  },
  {
   "cell_type": "code",
   "execution_count": 49,
   "metadata": {},
   "outputs": [
    {
     "data": {
      "image/png": "[encoded data removed]",
      "text/plain": [
       "<Figure size 432x288 with 1 Axes>"
      ]
     },
     "metadata": {},
     "output_type": "display_data"
    }
   ],
   "source": [
    "view_coeff(X, linreg)"
   ]
  },
  {
   "cell_type": "markdown",
   "metadata": {},
   "source": [
    "After standardizing the variables, the regression looks like the following.\n",
    "\n",
    "        number_of_users = 780.3281 - 146.1394 (price_standardize) + 87.9499 (size_standardize)\n",
    "        \n",
    "From this regression, we can assume that the size of the app will impact the rating of the app more than the price. "
   ]
  },
  {
   "cell_type": "markdown",
   "metadata": {},
   "source": [
    "## 6.2 Ridge Regression"
   ]
  },
  {
   "cell_type": "code",
   "execution_count": 50,
   "metadata": {},
   "outputs": [],
   "source": [
    "samples = data[(data['average_user_rating'] > 0) & (data['primary_genre'] == 'Games')]\n",
    "\n",
    "y = samples['number_of_users']\n",
    "X = samples[['price_standardize', 'size_standardize']]"
   ]
  },
  {
   "cell_type": "code",
   "execution_count": 51,
   "metadata": {},
   "outputs": [],
   "source": [
    "# Setting the train and test data\n",
    "\n",
    "X_train, X_test, y_train, y_test = train_test_split(x, y, test_size = 0.2)"
   ]
  },
  {
   "cell_type": "code",
   "execution_count": 52,
   "metadata": {},
   "outputs": [],
   "source": [
    "## Calculate Ridge Regression model\n",
    "\n",
    "# create a model object to hold the modelling parameters\n",
    "clf = Ridge()\n",
    "\n",
    "# keep track of the intermediate results for coefficients and errors\n",
    "coefs = []\n",
    "errors = []\n",
    "\n",
    "# create a range of alphas to calculate\n",
    "ridge_alphas = np.logspace(-6, 6, 200)\n",
    "\n",
    "# Train the model with different regularisation strengths\n",
    "for a in ridge_alphas:\n",
    "    clf.set_params(alpha = a)\n",
    "    clf.fit(X, y)\n",
    "    coefs.append(clf.coef_)\n",
    "    errors.append(mean_squared_error(clf.coef_, linreg.coef_))"
   ]
  },
  {
   "cell_type": "code",
   "execution_count": 53,
   "metadata": {},
   "outputs": [
    {
     "name": "stdout",
     "output_type": "stream",
     "text": [
      "Alpha: 188965.2339691204\n",
      "Score: 0.0004872093355391405\n"
     ]
    }
   ],
   "source": [
    "optimal_ridge = RidgeCV(alphas=ridge_alphas, cv=10)\n",
    "optimal_ridge.fit(X, y)\n",
    "print('Alpha:', optimal_ridge.alpha_)\n",
    "print('Score:', optimal_ridge.score(X, y))"
   ]
  },
  {
   "cell_type": "code",
   "execution_count": 54,
   "metadata": {},
   "outputs": [
    {
     "data": {
      "image/png": "[encoded data removed]",
      "text/plain": [
       "<Figure size 432x288 with 1 Axes>"
      ]
     },
     "metadata": {},
     "output_type": "display_data"
    }
   ],
   "source": [
    "view_coeff(X, optimal_ridge)"
   ]
  },
  {
   "cell_type": "markdown",
   "metadata": {},
   "source": [
    "# 7. Conclusion"
   ]
  },
  {
   "cell_type": "markdown",
   "metadata": {},
   "source": [
    "From the regressions done, we can see that the size is significant in drawing attention of the users and price pushes users away from the app. Perhaps, it is due to big sized apps means more features to fit in the app. There are possibly other variables that can be captured and explain what attracts users, but the data only has size of the app and price that can explain attraction. \n",
    "\n",
    "Further fixes on target data may be necessary as the time grows, naturally the number of users for the app will grow. Changing the metric to average users per year may describe the model better."
   ]
  },
  {
   "cell_type": "markdown",
   "metadata": {},
   "source": [
    "However, the model may not be accurate as the scores are pretty close to zero. This requires further testing on other models such as logistic regressions."
   ]
  },
  {
   "cell_type": "markdown",
   "metadata": {},
   "source": [
    "-----------------------------------------------------------------------------------------------------------------------------"
   ]
  },
  {
   "cell_type": "markdown",
   "metadata": {},
   "source": [
    "Comments\n",
    "\n",
    "For presentations\n",
    "- Use different model + data set\n",
    "- Do all linear models if possible\n",
    "\n",
    "Presentation outlines\n",
    "- Business View after EDA\n",
    "- Tests\n",
    "    - Normality\n",
    "    - Error independence\n",
    "    - Linearity"
   ]
  }
 ],
 "metadata": {
  "kernelspec": {
   "display_name": "Python 3",
   "language": "python",
   "name": "python3"
  },
  "language_info": {
   "codemirror_mode": {
    "name": "ipython",
    "version": 3
   },
   "file_extension": ".py",
   "mimetype": "text/x-python",
   "name": "python",
   "nbconvert_exporter": "python",
   "pygments_lexer": "ipython3",
   "version": "3.7.3"
  }
 },
 "nbformat": 4,
 "nbformat_minor": 2
}
